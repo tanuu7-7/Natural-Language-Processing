{
 "cells": [
  {
   "cell_type": "code",
   "execution_count": 43,
   "id": "949e31a6-5295-4ebf-af69-dca6c8ce16ba",
   "metadata": {},
   "outputs": [
    {
     "name": "stdout",
     "output_type": "stream",
     "text": [
      "[('playing', 0.17823995649814606), ('basketball', 0.13151343166828156), ('love', 0.07497559487819672), ('i', 0.06797593086957932), ('a', 0.04158329591155052)]\n",
      "0.07497561\n"
     ]
    }
   ],
   "source": [
    "import gensim\n",
    "from gensim.models import Word2Vec\n",
    "import nltk\n",
    "from nltk.tokenize import word_tokenize\n",
    "corpus=[\"I love to play football.\",\n",
    "    \"Football is a great sport.\",\n",
    "    \"I enjoy playing basketball.\",\n",
    "    \"Basketball is also a fun game.\",\n",
    "    \"I like watching sports.\",\n",
    "    \"Sports are very entertaining.\"]\n",
    "token=[word_tokenize(sent.lower()) for sent in corpus]\n",
    "model=Word2Vec(sentences=token,vector_size=100,window=5,min_count=1,workers=3)\n",
    "most_similar=model.wv.most_similar('football',topn=5)\n",
    "print(most_similar)\n",
    "similarity=model.wv.similarity('football','love')\n",
    "print(similarity)"
   ]
  },
  {
   "cell_type": "code",
   "execution_count": 45,
   "id": "a0ca217f-80ab-47bc-b05f-9e344cf1214f",
   "metadata": {},
   "outputs": [
    {
     "data": {
      "text/html": [
       "<div>\n",
       "<style scoped>\n",
       "    .dataframe tbody tr th:only-of-type {\n",
       "        vertical-align: middle;\n",
       "    }\n",
       "\n",
       "    .dataframe tbody tr th {\n",
       "        vertical-align: top;\n",
       "    }\n",
       "\n",
       "    .dataframe thead th {\n",
       "        text-align: right;\n",
       "    }\n",
       "</style>\n",
       "<table border=\"1\" class=\"dataframe\">\n",
       "  <thead>\n",
       "    <tr style=\"text-align: right;\">\n",
       "      <th></th>\n",
       "      <th>text</th>\n",
       "      <th>label</th>\n",
       "    </tr>\n",
       "  </thead>\n",
       "  <tbody>\n",
       "    <tr>\n",
       "      <th>0</th>\n",
       "      <td>I love programming</td>\n",
       "      <td>positive</td>\n",
       "    </tr>\n",
       "    <tr>\n",
       "      <th>1</th>\n",
       "      <td>Python is great</td>\n",
       "      <td>positive</td>\n",
       "    </tr>\n",
       "    <tr>\n",
       "      <th>2</th>\n",
       "      <td>I enjoy machine learning</td>\n",
       "      <td>positive</td>\n",
       "    </tr>\n",
       "    <tr>\n",
       "      <th>3</th>\n",
       "      <td>TensorFlow is a powerful tool</td>\n",
       "      <td>positive</td>\n",
       "    </tr>\n",
       "    <tr>\n",
       "      <th>4</th>\n",
       "      <td>AI is the future</td>\n",
       "      <td>neutral</td>\n",
       "    </tr>\n",
       "  </tbody>\n",
       "</table>\n",
       "</div>"
      ],
      "text/plain": [
       "                            text     label\n",
       "0             I love programming  positive\n",
       "1                Python is great  positive\n",
       "2       I enjoy machine learning  positive\n",
       "3  TensorFlow is a powerful tool  positive\n",
       "4               AI is the future   neutral"
      ]
     },
     "execution_count": 45,
     "metadata": {},
     "output_type": "execute_result"
    }
   ],
   "source": [
    "from gensim.models import Word2Vec\n",
    "import pandas as pd\n",
    "df=pd.read_csv('texts.csv')\n",
    "df"
   ]
  },
  {
   "cell_type": "code",
   "execution_count": 51,
   "id": "ea4de432-e2a8-4e2b-bb0b-12bf23b2f877",
   "metadata": {},
   "outputs": [],
   "source": [
    "token=[]\n",
    "for each in df['text']:\n",
    "    token.append(each)\n",
    "tokens=[word_tokenize(each) for each in token]\n",
    "model=Word2Vec(sentences=tokens,vector_size=100,window=5,min_count=1,workers=3)"
   ]
  },
  {
   "cell_type": "code",
   "execution_count": 52,
   "id": "05b76d02-ba8c-42b5-b13d-82325830777b",
   "metadata": {},
   "outputs": [
    {
     "name": "stdout",
     "output_type": "stream",
     "text": [
      "[('AI', 0.2529047429561615), ('I', 0.13725273311138153), ('tool', 0.04410732910037041), ('programming', 0.02700837515294552), ('powerful', 0.012811624445021152)]\n"
     ]
    }
   ],
   "source": [
    "most_similar=model.wv.most_similar('Python',topn=5)\n",
    "print(most_similar)"
   ]
  },
  {
   "cell_type": "code",
   "execution_count": 54,
   "id": "c1210beb-f9e6-426a-b992-3546c11a8ca1",
   "metadata": {},
   "outputs": [
    {
     "data": {
      "text/plain": [
       "array([-0.00950012,  0.00956222, -0.00777076, -0.00264551, -0.00490641,\n",
       "       -0.0049667 ], dtype=float32)"
      ]
     },
     "execution_count": 54,
     "metadata": {},
     "output_type": "execute_result"
    }
   ],
   "source": [
    "model.wv[\"Python\"][:6]"
   ]
  },
  {
   "cell_type": "code",
   "execution_count": 60,
   "id": "06b049fa-d937-4c09-aeff-bfe9f57350d9",
   "metadata": {},
   "outputs": [
    {
     "name": "stdout",
     "output_type": "stream",
     "text": [
      "0.17272717\n"
     ]
    }
   ],
   "source": [
    "similarity=model.wv.similarity('enjoy','future')\n",
    "print(similarity)"
   ]
  }
 ],
 "metadata": {
  "kernelspec": {
   "display_name": "Python 3 (ipykernel)",
   "language": "python",
   "name": "python3"
  },
  "language_info": {
   "codemirror_mode": {
    "name": "ipython",
    "version": 3
   },
   "file_extension": ".py",
   "mimetype": "text/x-python",
   "name": "python",
   "nbconvert_exporter": "python",
   "pygments_lexer": "ipython3",
   "version": "3.12.7"
  }
 },
 "nbformat": 4,
 "nbformat_minor": 5
}
