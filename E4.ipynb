{
 "cells": [
  {
   "cell_type": "code",
   "execution_count": 24,
   "id": "bfafdc75-08cf-450f-9c08-c455099dabdb",
   "metadata": {},
   "outputs": [],
   "source": [
    "import nltk\n",
    "import pandas as pd\n",
    "import numpy as np\n",
    "import math\n",
    "from collections import defaultdict,Counter"
   ]
  },
  {
   "cell_type": "code",
   "execution_count": 25,
   "id": "65bf6181-6c70-4f30-acc5-035ed4c8e50a",
   "metadata": {},
   "outputs": [
    {
     "data": {
      "text/html": [
       "<div>\n",
       "<style scoped>\n",
       "    .dataframe tbody tr th:only-of-type {\n",
       "        vertical-align: middle;\n",
       "    }\n",
       "\n",
       "    .dataframe tbody tr th {\n",
       "        vertical-align: top;\n",
       "    }\n",
       "\n",
       "    .dataframe thead th {\n",
       "        text-align: right;\n",
       "    }\n",
       "</style>\n",
       "<table border=\"1\" class=\"dataframe\">\n",
       "  <thead>\n",
       "    <tr style=\"text-align: right;\">\n",
       "      <th></th>\n",
       "      <th>0</th>\n",
       "    </tr>\n",
       "  </thead>\n",
       "  <tbody>\n",
       "    <tr>\n",
       "      <th>0</th>\n",
       "      <td>She walked into the room with a phone in her h...</td>\n",
       "    </tr>\n",
       "    <tr>\n",
       "      <th>1</th>\n",
       "      <td>The chef cooked dinner, chopping vegetables an...</td>\n",
       "    </tr>\n",
       "    <tr>\n",
       "      <th>2</th>\n",
       "      <td>John entered the cafe with a phone tucked into...</td>\n",
       "    </tr>\n",
       "    <tr>\n",
       "      <th>3</th>\n",
       "      <td>She stood in line, chatting with the person ah...</td>\n",
       "    </tr>\n",
       "    <tr>\n",
       "      <th>4</th>\n",
       "      <td>The teenager sat on the bench with a phone in ...</td>\n",
       "    </tr>\n",
       "    <tr>\n",
       "      <th>...</th>\n",
       "      <td>...</td>\n",
       "    </tr>\n",
       "    <tr>\n",
       "      <th>75</th>\n",
       "      <td>They went to the sports stadium with a phone a...</td>\n",
       "    </tr>\n",
       "    <tr>\n",
       "      <th>76</th>\n",
       "      <td>The explorer saw the world with a sense of adv...</td>\n",
       "    </tr>\n",
       "    <tr>\n",
       "      <th>77</th>\n",
       "      <td>She went to the planetarium with a phone and s...</td>\n",
       "    </tr>\n",
       "    <tr>\n",
       "      <th>78</th>\n",
       "      <td>She saw the silver lining in every cloud with ...</td>\n",
       "    </tr>\n",
       "    <tr>\n",
       "      <th>79</th>\n",
       "      <td>John went to the historic site with a phone an...</td>\n",
       "    </tr>\n",
       "  </tbody>\n",
       "</table>\n",
       "<p>80 rows × 1 columns</p>\n",
       "</div>"
      ],
      "text/plain": [
       "                                                    0\n",
       "0   She walked into the room with a phone in her h...\n",
       "1   The chef cooked dinner, chopping vegetables an...\n",
       "2   John entered the cafe with a phone tucked into...\n",
       "3   She stood in line, chatting with the person ah...\n",
       "4   The teenager sat on the bench with a phone in ...\n",
       "..                                                ...\n",
       "75  They went to the sports stadium with a phone a...\n",
       "76  The explorer saw the world with a sense of adv...\n",
       "77  She went to the planetarium with a phone and s...\n",
       "78  She saw the silver lining in every cloud with ...\n",
       "79  John went to the historic site with a phone an...\n",
       "\n",
       "[80 rows x 1 columns]"
      ]
     },
     "execution_count": 25,
     "metadata": {},
     "output_type": "execute_result"
    }
   ],
   "source": [
    "df=pd.read_csv('Attachment ambiguity WITH - Attachment ambiguity WITH.csv',header=None)\n",
    "df"
   ]
  },
  {
   "cell_type": "code",
   "execution_count": 26,
   "id": "75c5b321-d936-4fc0-985c-4e3fcece30ab",
   "metadata": {},
   "outputs": [],
   "source": [
    "prep='with'\n",
    "noun='phone'\n",
    "verb='saw'"
   ]
  },
  {
   "cell_type": "code",
   "execution_count": 27,
   "id": "a7fc54fc-82a5-4964-a53f-cc9cb36a3ddf",
   "metadata": {},
   "outputs": [],
   "source": [
    "from nltk.corpus import stopwords\n",
    "stop_words=set(stopwords.words('english'))\n",
    "unigram_count=defaultdict(int)\n",
    "bigram_count=defaultdict(int)"
   ]
  },
  {
   "cell_type": "code",
   "execution_count": 29,
   "id": "169b09d7-9af2-4c5f-b910-436231e68497",
   "metadata": {},
   "outputs": [],
   "source": [
    "for sentence in df[0]:\n",
    "    words=sentence.lower().split()\n",
    "    tokens=[word for word in words if word not in ['a']]\n",
    "    for token in tokens:\n",
    "        unigram_count[token]+=1\n",
    "    for i in range(len(tokens)-1):\n",
    "        bigram=tokens[i],tokens[i+1]\n",
    "        bigram_count[bigram]+=1\n"
   ]
  },
  {
   "cell_type": "code",
   "execution_count": 38,
   "id": "8a48f1b5-298d-4874-9630-7423ace89dd5",
   "metadata": {},
   "outputs": [
    {
     "data": {
      "text/plain": [
       "57"
      ]
     },
     "execution_count": 38,
     "metadata": {},
     "output_type": "execute_result"
    }
   ],
   "source": [
    "bigram_count.setdefault((prep.lower(),noun.lower()),0)\n",
    "bigram_count.setdefault((verb.lower(),prep.lower()),0)\n",
    "unigram_count.setdefault(prep.lower(),0)\n",
    "unigram_count.setdefault(verb.lower(),0)\n",
    "unigram_count.setdefault(noun.lower(),0)"
   ]
  },
  {
   "cell_type": "code",
   "execution_count": 37,
   "id": "9d77e97b-9250-46d0-9317-b1d22883787e",
   "metadata": {},
   "outputs": [
    {
     "name": "stdout",
     "output_type": "stream",
     "text": [
      "43\n",
      "0\n",
      "66\n",
      "57\n",
      "40\n"
     ]
    }
   ],
   "source": [
    "print(bigram_count[(prep.lower(),noun.lower())])\n",
    "print(bigram_count[(prep.lower(),verb.lower())])\n",
    "print(unigram_count[prep.lower()])\n",
    "print(unigram_count[noun.lower()])\n",
    "print(unigram_count[verb.lower()])"
   ]
  },
  {
   "cell_type": "code",
   "execution_count": 49,
   "id": "7b548088-0f86-4b05-99dc-3c1f238c49f4",
   "metadata": {},
   "outputs": [
    {
     "name": "stdout",
     "output_type": "stream",
     "text": [
      "Attached with noun\n"
     ]
    }
   ],
   "source": [
    "p_n=bigram_count[(prep.lower(),noun.lower())]/unigram_count[noun.lower()]\n",
    "p_0_n=1-p_n\n",
    "p_v=0.1\n",
    "try:\n",
    "    lammbda=math.log2((p_v*p_0_n)/p_n)\n",
    "    if lammbda<0:\n",
    "        print(\"Attached with noun\")\n",
    "    else:\n",
    "        print(\"Attached with verb\")\n",
    "except Exception as e:\n",
    "    print(\"No attachments\")"
   ]
  }
 ],
 "metadata": {
  "kernelspec": {
   "display_name": "Python 3 (ipykernel)",
   "language": "python",
   "name": "python3"
  },
  "language_info": {
   "codemirror_mode": {
    "name": "ipython",
    "version": 3
   },
   "file_extension": ".py",
   "mimetype": "text/x-python",
   "name": "python",
   "nbconvert_exporter": "python",
   "pygments_lexer": "ipython3",
   "version": "3.12.7"
  }
 },
 "nbformat": 4,
 "nbformat_minor": 5
}
