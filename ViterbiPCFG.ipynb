{
  "nbformat": 4,
  "nbformat_minor": 0,
  "metadata": {
    "colab": {
      "provenance": []
    },
    "kernelspec": {
      "name": "python3",
      "display_name": "Python 3"
    },
    "language_info": {
      "name": "python"
    }
  },
  "cells": [
    {
      "cell_type": "markdown",
      "source": [
        "#Viterbi PCFG"
      ],
      "metadata": {
        "id": "P5lubspeIm1U"
      }
    },
    {
      "cell_type": "code",
      "execution_count": null,
      "metadata": {
        "id": "vIBzCWzHHQ7-"
      },
      "outputs": [],
      "source": [
        "import nltk\n",
        "from nltk import PCFG\n",
        "from nltk.parse.viterbi import ViterbiParser\n",
        "from nltk.tree import Tree"
      ]
    },
    {
      "cell_type": "code",
      "source": [
        "pcfg=PCFG.fromstring(\"\"\"\n",
        "S -> NP VP [1.0]\n",
        "PP -> P NP [1.0]\n",
        "VP -> V NP [0.7] | VP PP [0.3]\n",
        "P -> 'with' [1.0]\n",
        "V -> 'saw' [1.0]\n",
        "NP -> NP PP [0.4] |'astronomers' [0.1] | 'ears' [0.18] | 'saw' [0.04] | 'stars' [0.18] | 'telescopes' [0.1]\n",
        "\"\"\")"
      ],
      "metadata": {
        "id": "mgLcUDvtJgk4"
      },
      "execution_count": 2,
      "outputs": []
    },
    {
      "cell_type": "code",
      "source": [
        "parser=ViterbiParser(pcfg)\n",
        "sentence=\"astronomers saw stars with ears\"\n",
        "tokens=sentence.split()\n",
        "try:\n",
        "  for each in parser.parse(tokens):\n",
        "    each.pretty_print()\n",
        "except ValueError:\n",
        "  print(\"No parse tree found for the sentence\")"
      ],
      "metadata": {
        "colab": {
          "base_uri": "https://localhost:8080/"
        },
        "id": "h0Wl4B08JiPH",
        "outputId": "e3bc2d44-41cd-48fe-9a73-028e621fef85"
      },
      "execution_count": 4,
      "outputs": [
        {
          "output_type": "stream",
          "name": "stdout",
          "text": [
            "                  S                    \n",
            "      ____________|____                 \n",
            "     |                 VP              \n",
            "     |        _________|___             \n",
            "     |       |             NP          \n",
            "     |       |     ________|____        \n",
            "     |       |    |             PP     \n",
            "     |       |    |         ____|___    \n",
            "     NP      V    NP       P        NP \n",
            "     |       |    |        |        |   \n",
            "astronomers saw stars     with     ears\n",
            "\n"
          ]
        }
      ]
    }
  ]
}