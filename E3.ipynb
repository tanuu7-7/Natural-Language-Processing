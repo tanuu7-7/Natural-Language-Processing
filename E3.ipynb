{
 "cells": [
  {
   "cell_type": "code",
   "execution_count": 109,
   "id": "d597edf0-d654-4d2f-9ed3-782a5a42db71",
   "metadata": {},
   "outputs": [],
   "source": [
    "import pandas as pd\n",
    "import numpy as np\n",
    "from collections import Counter"
   ]
  },
  {
   "cell_type": "code",
   "execution_count": 110,
   "id": "ecc3f74a-6668-4cca-ac56-9e2930c98fb0",
   "metadata": {},
   "outputs": [],
   "source": [
    "file_path = 'Bank.xlsx'\n",
    "df = pd.read_excel(file_path)\n",
    "\n",
    "df.columns = df.columns.str.strip()\n",
    "\n",
    "df = df.dropna(subset=['Sense of the word \"Bank\"'])\n",
    "df = df[df['Sense of the word \"Bank\"'] != '?']"
   ]
  },
  {
   "cell_type": "code",
   "execution_count": 111,
   "id": "ddceb150-6b25-4a4f-a360-84167e23f276",
   "metadata": {},
   "outputs": [],
   "source": [
    "training_data=list(zip(df['Sentences for Training'],df['Sense of the word \"Bank\"']))"
   ]
  },
  {
   "cell_type": "code",
   "execution_count": 112,
   "id": "a2f10dce-57ec-4f8c-b283-055e16bbfd3b",
   "metadata": {},
   "outputs": [],
   "source": [
    "word_counts={\n",
    "    \"Financial Institution\":defaultdict(int),\n",
    "    \"River Border\":defaultdict(int)\n",
    "}\n",
    "sense_counts=defaultdict(int)\n",
    "total_words=0"
   ]
  },
  {
   "cell_type": "code",
   "execution_count": 113,
   "id": "c31d836a-030b-41e6-b543-d3fe79a5284b",
   "metadata": {},
   "outputs": [],
   "source": [
    "for sentence, sense in training_data:\n",
    "    words = sentence.lower().split()\n",
    "    sense_counts[sense] += 1\n",
    "    for word in words:\n",
    "        word_counts[sense][word] += 1\n",
    "        total_words += 1"
   ]
  },
  {
   "cell_type": "code",
   "execution_count": 114,
   "id": "b4d47ef5-ac12-47f5-9a13-9eba16b3b0fa",
   "metadata": {},
   "outputs": [
    {
     "data": {
      "text/plain": [
       "93"
      ]
     },
     "execution_count": 114,
     "metadata": {},
     "output_type": "execute_result"
    }
   ],
   "source": [
    "total_sentences=len(training_data)\n",
    "total_sentences"
   ]
  },
  {
   "cell_type": "code",
   "execution_count": 115,
   "id": "2c34d25c-fb56-4d04-8a70-1ee8742b32aa",
   "metadata": {},
   "outputs": [
    {
     "data": {
      "text/plain": [
       "972"
      ]
     },
     "execution_count": 115,
     "metadata": {},
     "output_type": "execute_result"
    }
   ],
   "source": [
    "total_words"
   ]
  },
  {
   "cell_type": "code",
   "execution_count": 116,
   "id": "d1e8c379-b847-43f9-809f-51ad7db69713",
   "metadata": {},
   "outputs": [
    {
     "data": {
      "text/plain": [
       "{'Financial Institution': 0.4838709677419355,\n",
       " 'River Border': 0.5161290322580645}"
      ]
     },
     "execution_count": 116,
     "metadata": {},
     "output_type": "execute_result"
    }
   ],
   "source": [
    "prior_prob={\n",
    "    sense:count/total_sentences for sense,count in sense_counts.items()\n",
    "}\n",
    "prior_prob"
   ]
  },
  {
   "cell_type": "code",
   "execution_count": 117,
   "id": "f12193d7-bcd7-4ca9-b7df-f3be8d460f5c",
   "metadata": {},
   "outputs": [],
   "source": [
    "vocabulary=set(word for sense in word_counts for word in word_counts[sense])\n",
    "v_size=len(vocabulary)"
   ]
  },
  {
   "cell_type": "code",
   "execution_count": 118,
   "id": "0829c337-409e-4ad8-881a-8477f3c6b390",
   "metadata": {},
   "outputs": [],
   "source": [
    "conditional_prob={\n",
    "    sense:{\n",
    "        word:(word_counts[sense][word]+1)/(sum(word_counts[sense].values())+v_size)\n",
    "        for word in vocabulary\n",
    "    }\n",
    "    for sense in word_counts\n",
    "}"
   ]
  },
  {
   "cell_type": "code",
   "execution_count": 119,
   "id": "7b170063-989d-4a17-aa5f-40cfcdee512b",
   "metadata": {},
   "outputs": [],
   "source": [
    "import math\n",
    "def classify(sentence):\n",
    "    words = sentence.lower().split()\n",
    "    scores = {}\n",
    "    for sense in prior_prob:\n",
    "        score = math.log(prior_prob[sense])\n",
    "        for word in words:\n",
    "            if sense in [\"Financial Institution\",\"River Border\"]:\n",
    "                if word in conditional_prob[sense]:\n",
    "                    score += math.log(conditional_prob[sense][word])\n",
    "                else:\n",
    "                    score += math.log(1 / (sum(word_counts[sense].values()) + v_size))\n",
    "        scores[sense] = score\n",
    "    return max(scores, key=scores.get)"
   ]
  },
  {
   "cell_type": "code",
   "execution_count": 120,
   "id": "a9e3250d-09f9-454d-832a-ef1bfefba8a3",
   "metadata": {},
   "outputs": [
    {
     "data": {
      "text/html": [
       "<div>\n",
       "<style scoped>\n",
       "    .dataframe tbody tr th:only-of-type {\n",
       "        vertical-align: middle;\n",
       "    }\n",
       "\n",
       "    .dataframe tbody tr th {\n",
       "        vertical-align: top;\n",
       "    }\n",
       "\n",
       "    .dataframe thead th {\n",
       "        text-align: right;\n",
       "    }\n",
       "</style>\n",
       "<table border=\"1\" class=\"dataframe\">\n",
       "  <thead>\n",
       "    <tr style=\"text-align: right;\">\n",
       "      <th></th>\n",
       "      <th>Unnamed: 0</th>\n",
       "      <th>Sentences for Training</th>\n",
       "      <th>Sense of the word \"Bank\"</th>\n",
       "    </tr>\n",
       "  </thead>\n",
       "  <tbody>\n",
       "    <tr>\n",
       "      <th>94</th>\n",
       "      <td>NaN</td>\n",
       "      <td>The children built a dam on the bank of the ri...</td>\n",
       "      <td>River Border</td>\n",
       "    </tr>\n",
       "    <tr>\n",
       "      <th>95</th>\n",
       "      <td>NaN</td>\n",
       "      <td>We need to withdraw some cash from the bank fo...</td>\n",
       "      <td>Financial Institution</td>\n",
       "    </tr>\n",
       "    <tr>\n",
       "      <th>96</th>\n",
       "      <td>NaN</td>\n",
       "      <td>I need to update my contact information with t...</td>\n",
       "      <td>Financial Institution</td>\n",
       "    </tr>\n",
       "    <tr>\n",
       "      <th>97</th>\n",
       "      <td>NaN</td>\n",
       "      <td>The bank provides online banking services for ...</td>\n",
       "      <td>Financial Institution</td>\n",
       "    </tr>\n",
       "    <tr>\n",
       "      <th>98</th>\n",
       "      <td>NaN</td>\n",
       "      <td>The beavers constructed a dam along the bank o...</td>\n",
       "      <td>River Border</td>\n",
       "    </tr>\n",
       "    <tr>\n",
       "      <th>99</th>\n",
       "      <td>NaN</td>\n",
       "      <td>I need to check my transaction history at the ...</td>\n",
       "      <td>Financial Institution</td>\n",
       "    </tr>\n",
       "    <tr>\n",
       "      <th>100</th>\n",
       "      <td>NaN</td>\n",
       "      <td>She works as a financial consultant at the bank.</td>\n",
       "      <td>Financial Institution</td>\n",
       "    </tr>\n",
       "  </tbody>\n",
       "</table>\n",
       "</div>"
      ],
      "text/plain": [
       "     Unnamed: 0                             Sentences for Training  \\\n",
       "94          NaN  The children built a dam on the bank of the ri...   \n",
       "95          NaN  We need to withdraw some cash from the bank fo...   \n",
       "96          NaN  I need to update my contact information with t...   \n",
       "97          NaN  The bank provides online banking services for ...   \n",
       "98          NaN  The beavers constructed a dam along the bank o...   \n",
       "99          NaN  I need to check my transaction history at the ...   \n",
       "100         NaN  She works as a financial consultant at the bank.    \n",
       "\n",
       "    Sense of the word \"Bank\"  \n",
       "94              River Border  \n",
       "95     Financial Institution  \n",
       "96     Financial Institution  \n",
       "97     Financial Institution  \n",
       "98              River Border  \n",
       "99     Financial Institution  \n",
       "100    Financial Institution  "
      ]
     },
     "execution_count": 120,
     "metadata": {},
     "output_type": "execute_result"
    }
   ],
   "source": [
    "test"
   ]
  },
  {
   "cell_type": "code",
   "execution_count": 107,
   "id": "fbb3fe71-3f13-439f-aedc-e0eba1ffdf5f",
   "metadata": {},
   "outputs": [
    {
     "data": {
      "text/html": [
       "<div>\n",
       "<style scoped>\n",
       "    .dataframe tbody tr th:only-of-type {\n",
       "        vertical-align: middle;\n",
       "    }\n",
       "\n",
       "    .dataframe tbody tr th {\n",
       "        vertical-align: top;\n",
       "    }\n",
       "\n",
       "    .dataframe thead th {\n",
       "        text-align: right;\n",
       "    }\n",
       "</style>\n",
       "<table border=\"1\" class=\"dataframe\">\n",
       "  <thead>\n",
       "    <tr style=\"text-align: right;\">\n",
       "      <th></th>\n",
       "      <th>Unnamed: 0</th>\n",
       "      <th>Sentences for Training</th>\n",
       "      <th>Sense of the word \"Bank\"</th>\n",
       "    </tr>\n",
       "  </thead>\n",
       "  <tbody>\n",
       "    <tr>\n",
       "      <th>94</th>\n",
       "      <td>NaN</td>\n",
       "      <td>The children built a dam on the bank of the ri...</td>\n",
       "      <td>River Border</td>\n",
       "    </tr>\n",
       "    <tr>\n",
       "      <th>95</th>\n",
       "      <td>NaN</td>\n",
       "      <td>We need to withdraw some cash from the bank fo...</td>\n",
       "      <td>Financial Institution</td>\n",
       "    </tr>\n",
       "    <tr>\n",
       "      <th>96</th>\n",
       "      <td>NaN</td>\n",
       "      <td>I need to update my contact information with t...</td>\n",
       "      <td>Financial Institution</td>\n",
       "    </tr>\n",
       "    <tr>\n",
       "      <th>97</th>\n",
       "      <td>NaN</td>\n",
       "      <td>The bank provides online banking services for ...</td>\n",
       "      <td>Financial Institution</td>\n",
       "    </tr>\n",
       "    <tr>\n",
       "      <th>98</th>\n",
       "      <td>NaN</td>\n",
       "      <td>The beavers constructed a dam along the bank o...</td>\n",
       "      <td>River Border</td>\n",
       "    </tr>\n",
       "    <tr>\n",
       "      <th>99</th>\n",
       "      <td>NaN</td>\n",
       "      <td>I need to check my transaction history at the ...</td>\n",
       "      <td>Financial Institution</td>\n",
       "    </tr>\n",
       "    <tr>\n",
       "      <th>100</th>\n",
       "      <td>NaN</td>\n",
       "      <td>She works as a financial consultant at the bank.</td>\n",
       "      <td>Financial Institution</td>\n",
       "    </tr>\n",
       "  </tbody>\n",
       "</table>\n",
       "</div>"
      ],
      "text/plain": [
       "     Unnamed: 0                             Sentences for Training  \\\n",
       "94          NaN  The children built a dam on the bank of the ri...   \n",
       "95          NaN  We need to withdraw some cash from the bank fo...   \n",
       "96          NaN  I need to update my contact information with t...   \n",
       "97          NaN  The bank provides online banking services for ...   \n",
       "98          NaN  The beavers constructed a dam along the bank o...   \n",
       "99          NaN  I need to check my transaction history at the ...   \n",
       "100         NaN  She works as a financial consultant at the bank.    \n",
       "\n",
       "    Sense of the word \"Bank\"  \n",
       "94              River Border  \n",
       "95     Financial Institution  \n",
       "96     Financial Institution  \n",
       "97     Financial Institution  \n",
       "98              River Border  \n",
       "99     Financial Institution  \n",
       "100    Financial Institution  "
      ]
     },
     "execution_count": 107,
     "metadata": {},
     "output_type": "execute_result"
    }
   ],
   "source": [
    "for sentence in test['Sentences for Training']:\n",
    "    test['Sense of the word \"Bank\"']=test['Sentences for Training'].apply(classify)\n",
    "\n",
    "test"
   ]
  }
 ],
 "metadata": {
  "kernelspec": {
   "display_name": "Python 3 (ipykernel)",
   "language": "python",
   "name": "python3"
  },
  "language_info": {
   "codemirror_mode": {
    "name": "ipython",
    "version": 3
   },
   "file_extension": ".py",
   "mimetype": "text/x-python",
   "name": "python",
   "nbconvert_exporter": "python",
   "pygments_lexer": "ipython3",
   "version": "3.12.7"
  }
 },
 "nbformat": 4,
 "nbformat_minor": 5
}
