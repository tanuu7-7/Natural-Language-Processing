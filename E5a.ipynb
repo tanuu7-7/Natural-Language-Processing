{
 "cells": [
  {
   "cell_type": "code",
   "execution_count": 1,
   "id": "77ae45de-9887-44ee-9362-19538810b39d",
   "metadata": {},
   "outputs": [
    {
     "name": "stdout",
     "output_type": "stream",
     "text": [
      "Using Forward Chaining: 0.0315\n",
      "[1, 0.21, 0.0462, 0.021293999999999993] \n",
      " [0, 0.09, 0.0378, 0.010206]\n"
     ]
    }
   ],
   "source": [
    "transition={\"CPtoCP\":0.7,\"CPtoIP\":0.3,\"IPtoCP\":0.5,\"IPtoIP\":0.5}\n",
    "emission={\"CP\":{\"Cola\":0.6,\"Iced_Tea\":0.1,\"Lemonade\":0.3},\"IP\":{\"Cola\":0.1,\"Iced_Tea\":0.7,\"Lemonade\":0.2}}\n",
    "pi=(1,0)\n",
    "a,b=pi\n",
    "alpha1=[a]\n",
    "alpha2=[b]\n",
    "for i in [\"Lemonade\",\"Iced_Tea\",\"Cola\"]:\n",
    "    temp1=[]\n",
    "    temp2=[]\n",
    "    for j in [\"CPtoCP\",\"CPtoIP\",\"IPtoCP\",\"IPtoIP\"]:\n",
    "        if j.endswith(\"CP\"):\n",
    "            if j.startswith(\"CP\"): temp1.append(a*transition[j]*emission[\"CP\"][i])\n",
    "            else: temp1.append(b*transition[j]*emission[\"IP\"][i])\n",
    "        else: \n",
    "            if j.startswith(\"CP\"): temp2.append(a*transition[j]*emission[\"CP\"][i])\n",
    "            else: temp2.append(b*transition[j]*emission[\"IP\"][i])\n",
    "    a=sum(temp1)\n",
    "    b=sum(temp2)\n",
    "    alpha1.append(a)\n",
    "    alpha2.append(b)\n",
    "    temp1.clear()\n",
    "    temp2.clear()\n",
    "    if i==\"Cola\": print(\"Using Forward Chaining:\",round(a+b,4))\n",
    "print(alpha1,\"\\n\",alpha2)"
   ]
  }
 ],
 "metadata": {
  "kernelspec": {
   "display_name": "Python 3 (ipykernel)",
   "language": "python",
   "name": "python3"
  },
  "language_info": {
   "codemirror_mode": {
    "name": "ipython",
    "version": 3
   },
   "file_extension": ".py",
   "mimetype": "text/x-python",
   "name": "python",
   "nbconvert_exporter": "python",
   "pygments_lexer": "ipython3",
   "version": "3.12.7"
  }
 },
 "nbformat": 4,
 "nbformat_minor": 5
}
