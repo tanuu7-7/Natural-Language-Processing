{
  "nbformat": 4,
  "nbformat_minor": 0,
  "metadata": {
    "colab": {
      "provenance": []
    },
    "kernelspec": {
      "name": "python3",
      "display_name": "Python 3"
    },
    "language_info": {
      "name": "python"
    }
  },
  "cells": [
    {
      "cell_type": "markdown",
      "source": [
        "#PCFG-CYK"
      ],
      "metadata": {
        "id": "r3yMZ495-SaR"
      }
    },
    {
      "cell_type": "code",
      "execution_count": null,
      "metadata": {
        "id": "8fYfo23bwlcV"
      },
      "outputs": [],
      "source": [
        "import nltk\n",
        "from nltk import PCFG"
      ]
    },
    {
      "cell_type": "code",
      "source": [
        "pcfg=PCFG.fromstring(\"\"\"\n",
        "S -> NP VP [0.9]\n",
        "S -> VP [0.1]\n",
        "VP -> V NP [0.5]\n",
        "VP -> V [0.5]\n",
        "NP -> Det N [0.3]\n",
        "NP -> N [0.7]\n",
        "N -> 'cat' [0.2]\n",
        "N -> 'book' [0.2]\n",
        "N -> 'bird' [0.2]\n",
        "N -> 'dog' [0.4]\n",
        "V -> 'read' [0.1]\n",
        "V -> 'chased' [0.6]\n",
        "V -> 'ate' [0.3]\n",
        "Det -> 'the' [0.5]\n",
        "Det -> 'a' [0.5]\n",
        "\"\"\")"
      ],
      "metadata": {
        "id": "oUjRVRgE9usU"
      },
      "execution_count": null,
      "outputs": []
    },
    {
      "cell_type": "code",
      "source": [
        "def cyk_parse_with_probability(pcfg,sentence):\n",
        "  n=len(sentence)\n",
        "  table=[[[] for _ in range(n)]for _ in range(n)]\n",
        "  for i in range(n):\n",
        "    for prod in pcfg.productions(rhs=sentence[i]):\n",
        "      table[i][i]=[(prod.lhs(),prod.prob())]\n",
        "\n",
        "  for length in range(2,n+1):\n",
        "    for i in range(n-length+1):\n",
        "      j=i+length-1\n",
        "      for k in range(i,j):\n",
        "        for prod in pcfg.productions():\n",
        "          for left,left_prob in table[i][k]:\n",
        "            for right,right_prob in table[k+1][j]:\n",
        "              if prod.rhs()==(left,right):\n",
        "                prob=left_prob*right_prob*prod.prob()\n",
        "                if not table[i][j]:\n",
        "                  table[i][j]=[(prod.lhs(),prob)]\n",
        "                else:\n",
        "                  table[i][j].append((prod.lhs(),prob))\n",
        "  if pcfg.start() in [lhs for lhs,prob in table[0][n-1]]:\n",
        "    for lhs,prob in table[0][n-1]:\n",
        "      if lhs==pcfg.start():\n",
        "        return prob\n",
        "  return 0.0"
      ],
      "metadata": {
        "id": "ISLnXS6E-RZ9"
      },
      "execution_count": 19,
      "outputs": []
    },
    {
      "cell_type": "code",
      "source": [
        "sentence = \"the cat chased the dog\"\n",
        "result=cyk_parse_with_probability(pcfg,sentence.lower().split())\n",
        "if result>0:\n",
        "  print(f'The sentence \"{sentence}\" is grammatically correct with a probability {result}')\n",
        "else:\n",
        "  print(f\"The sentence \\\"{sentence}\\\" is not grammatically correct.\")"
      ],
      "metadata": {
        "id": "ZiaUUTxABfTN",
        "colab": {
          "base_uri": "https://localhost:8080/"
        },
        "outputId": "26e07b98-844c-470f-a344-cf5552ab7676"
      },
      "execution_count": 20,
      "outputs": [
        {
          "output_type": "stream",
          "name": "stdout",
          "text": [
            "The sentence \"the cat chased the dog\" is grammatically correct with a probability 0.00048599999999999994\n"
          ]
        }
      ]
    }
  ]
}