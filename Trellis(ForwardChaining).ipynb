{
  "nbformat": 4,
  "nbformat_minor": 0,
  "metadata": {
    "colab": {
      "provenance": []
    },
    "kernelspec": {
      "name": "python3",
      "display_name": "Python 3"
    },
    "language_info": {
      "name": "python"
    }
  },
  "cells": [
    {
      "cell_type": "code",
      "execution_count": 2,
      "metadata": {
        "colab": {
          "base_uri": "https://localhost:8080/"
        },
        "id": "xzYyLrHeKcak",
        "outputId": "d961dfbe-9643-4a64-d6e0-90b57d4f5ddb"
      },
      "outputs": [
        {
          "output_type": "stream",
          "name": "stdout",
          "text": [
            "Using Forward Chaining: 0.0315\n",
            "[1, 0.21, 0.0462, 0.021293999999999993] \n",
            " [0, 0.09, 0.0378, 0.010206]\n"
          ]
        }
      ],
      "source": [
        "transition={\"CPtoCP\":0.7,\"CPtoIP\":0.3,\"IPtoCP\":0.5,\"IPtoIP\":0.5}\n",
        "emission={\"CP\":{\"Cola\":0.6,\"Iced_Tea\":0.1,\"Lemonade\":0.3},\"IP\":{\"Cola\":0.1,\"Iced_Tea\":0.7,\"Lemonade\":0.2}}\n",
        "pi=(1,0)\n",
        "a,b=pi\n",
        "alpha1=[a]\n",
        "beta1=[b]\n",
        "for i in [\"Lemonade\",\"Iced_Tea\",\"Cola\"]:\n",
        "  temp1=[]\n",
        "  temp2=[]\n",
        "  for j in transition.keys():\n",
        "    if j.endswith(\"CP\"):\n",
        "      if j.startswith(\"CP\"):\n",
        "        temp1.append(a*transition[j]*emission[\"CP\"][i])\n",
        "      else:\n",
        "        temp1.append(b*transition[j]*emission[\"IP\"][i])\n",
        "    else:\n",
        "      if j.startswith(\"IP\"):\n",
        "        temp2.append(b*transition[j]*emission[\"IP\"][i])\n",
        "      else:\n",
        "        temp2.append(a*transition[j]*emission[\"CP\"][i])\n",
        "  a=sum(temp1)\n",
        "  b=sum(temp2)\n",
        "  alpha1.append(a)\n",
        "  beta1.append(b)\n",
        "  temp1.clear()\n",
        "  temp2.clear()\n",
        "  if i==\"Cola\":\n",
        "    print(\"Using Forward Chaining:\",round(a+b,4))\n",
        "print(alpha1,\"\\n\",beta1)"
      ]
    }
  ]
}