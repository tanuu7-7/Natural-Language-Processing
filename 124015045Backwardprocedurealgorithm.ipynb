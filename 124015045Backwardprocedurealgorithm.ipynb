{
  "nbformat": 4,
  "nbformat_minor": 0,
  "metadata": {
    "colab": {
      "provenance": []
    },
    "kernelspec": {
      "name": "python3",
      "display_name": "Python 3"
    },
    "language_info": {
      "name": "python"
    }
  },
  "cells": [
    {
      "cell_type": "code",
      "execution_count": null,
      "metadata": {
        "colab": {
          "base_uri": "https://localhost:8080/"
        },
        "id": "gVbwDSwfR3CY",
        "outputId": "84d47a98-d4d4-4b51-a679-65654164125c"
      },
      "outputs": [
        {
          "output_type": "stream",
          "name": "stderr",
          "text": [
            "[nltk_data] Downloading package stopwords to /root/nltk_data...\n",
            "[nltk_data]   Package stopwords is already up-to-date!\n",
            "[nltk_data] Downloading package punkt to /root/nltk_data...\n",
            "[nltk_data]   Package punkt is already up-to-date!\n",
            "[nltk_data] Downloading package averaged_perceptron_tagger to\n",
            "[nltk_data]     /root/nltk_data...\n",
            "[nltk_data]   Package averaged_perceptron_tagger is already up-to-\n",
            "[nltk_data]       date!\n"
          ]
        },
        {
          "output_type": "execute_result",
          "data": {
            "text/plain": [
              "True"
            ]
          },
          "metadata": {},
          "execution_count": 43
        }
      ],
      "source": [
        "import nltk\n",
        "nltk.download('stopwords')\n",
        "nltk.download('punkt')\n",
        "from nltk.corpus import stopwords\n",
        "from nltk import pos_tag,word_tokenize\n",
        "import pandas as pd\n",
        "import math\n",
        "nltk.download('averaged_perceptron_tagger')"
      ]
    },
    {
      "cell_type": "code",
      "source": [
        "def bpa(pi,state,transition,words):\n",
        "    words=list(reversed(words))\n",
        "    for i in range(len(state)):\n",
        "      beta.update({i:{len(words)+1:1}})\n",
        "    #ok=-1\n",
        "\n",
        "    for t in reversed(range(1,len(words)+1)):\n",
        "        #temp=list()\n",
        "        #ok=ok+1\n",
        "        for i in range(0,len(state)):\n",
        "            val=0\n",
        "            for j in range(0,len(state)):\n",
        "                ok=words[(len(words)+1)-(t+1)]\n",
        "                val=val+(state[i][j]*transition[i][ok]*beta[j][t+1])\n",
        "                print(\"k : \",ok,\"i: \",i,\"j: \",j,\"beta({},{}): \".format(j,t+1),beta[j][t+1],\"ok value: \",ok)\n",
        "                print(\"\\t\",state[i][j],\"*\",transition[i][ok],\"*\",beta[i][t+1])\n",
        "            #temp.append(val)\n",
        "            beta[i][t]=val\n",
        "            print(\"\\t beta({}{}): \".format(i,t),val)\n",
        "            val=0\n",
        "            #print(\"updated val: \",val,\"updated temp: \",temp,\"\\n\")\n",
        "    fsum=0\n",
        "    for i in range(len(state)):\n",
        "        fsum=fsum+beta[i][1]\n",
        "    return fsum"
      ],
      "metadata": {
        "id": "xIZ1yukLSCL4"
      },
      "execution_count": null,
      "outputs": []
    },
    {
      "cell_type": "code",
      "source": [
        "state=[[0.7,0.3],[0.5,0.5]]\n",
        "transition=[[0.6,0.1,0.3],[0.1,0.7,0.2]]\n",
        "words=[2,1,0]\n",
        "\n",
        "ans=bpa(pi,state,transition,words)\n"
      ],
      "metadata": {
        "id": "rr4yPQHDSYYA",
        "colab": {
          "base_uri": "https://localhost:8080/"
        },
        "outputId": "c0fbbcc3-c7ff-4906-f082-f0152207832f"
      },
      "execution_count": null,
      "outputs": [
        {
          "output_type": "stream",
          "name": "stdout",
          "text": [
            "k :  0 i:  0 j:  0 beta(0,4):  1 ok value:  0\n",
            "\t 0.7 * 0.6 * 1\n",
            "k :  0 i:  0 j:  1 beta(1,4):  1 ok value:  0\n",
            "\t 0.3 * 0.6 * 1\n",
            "\t beta(03):  0.6\n",
            "k :  0 i:  1 j:  0 beta(0,4):  1 ok value:  0\n",
            "\t 0.5 * 0.1 * 1\n",
            "k :  0 i:  1 j:  1 beta(1,4):  1 ok value:  0\n",
            "\t 0.5 * 0.1 * 1\n",
            "\t beta(13):  0.1\n",
            "k :  1 i:  0 j:  0 beta(0,3):  0.6 ok value:  1\n",
            "\t 0.7 * 0.1 * 0.6\n",
            "k :  1 i:  0 j:  1 beta(1,3):  0.1 ok value:  1\n",
            "\t 0.3 * 0.1 * 0.6\n",
            "\t beta(02):  0.045\n",
            "k :  1 i:  1 j:  0 beta(0,3):  0.6 ok value:  1\n",
            "\t 0.5 * 0.7 * 0.1\n",
            "k :  1 i:  1 j:  1 beta(1,3):  0.1 ok value:  1\n",
            "\t 0.5 * 0.7 * 0.1\n",
            "\t beta(12):  0.245\n",
            "k :  2 i:  0 j:  0 beta(0,2):  0.045 ok value:  2\n",
            "\t 0.7 * 0.3 * 0.045\n",
            "k :  2 i:  0 j:  1 beta(1,2):  0.245 ok value:  2\n",
            "\t 0.3 * 0.3 * 0.045\n",
            "\t beta(01):  0.0315\n",
            "k :  2 i:  1 j:  0 beta(0,2):  0.045 ok value:  2\n",
            "\t 0.5 * 0.2 * 0.245\n",
            "k :  2 i:  1 j:  1 beta(1,2):  0.245 ok value:  2\n",
            "\t 0.5 * 0.2 * 0.245\n",
            "\t beta(11):  0.029\n"
          ]
        }
      ]
    },
    {
      "cell_type": "code",
      "source": [
        "print(\"final probability for given words: \",ans)"
      ],
      "metadata": {
        "colab": {
          "base_uri": "https://localhost:8080/"
        },
        "id": "9rmYcYrY3yHl",
        "outputId": "9a6c3008-27ca-4a21-e20b-ae5397827149"
      },
      "execution_count": null,
      "outputs": [
        {
          "output_type": "stream",
          "name": "stdout",
          "text": [
            "final probability for given words:  0.0605\n"
          ]
        }
      ]
    }
  ]
}