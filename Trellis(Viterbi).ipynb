{
  "nbformat": 4,
  "nbformat_minor": 0,
  "metadata": {
    "colab": {
      "provenance": []
    },
    "kernelspec": {
      "name": "python3",
      "display_name": "Python 3"
    },
    "language_info": {
      "name": "python"
    }
  },
  "cells": [
    {
      "cell_type": "code",
      "execution_count": 5,
      "metadata": {
        "colab": {
          "base_uri": "https://localhost:8080/"
        },
        "id": "ma-FZtGscXj8",
        "outputId": "68178546-a1c0-4f22-b40f-51702d91acc1"
      },
      "outputs": [
        {
          "output_type": "stream",
          "name": "stdout",
          "text": [
            "Using Viterbi Chaining: 0.0189\n",
            "Best sequence :\n",
            "CP->IP->CP->\n",
            " [1, 0.21, 0.0315, 0.01323] \n",
            " [0, 0.09, 0.0315, 0.00567]\n"
          ]
        }
      ],
      "source": [
        "transition={\"CPtoCP\":0.7,\"CPtoIP\":0.3,\"IPtoCP\":0.5,\"IPtoIP\":0.5}\n",
        "emission={\"CP\":{\"Cola\":0.6,\"Iced_Tea\":0.1,\"Lemonade\":0.3},\"IP\":{\"Cola\":0.1,\"Iced_Tea\":0.7,\"Lemonade\":0.2}}\n",
        "pi=(1,0)\n",
        "a,b=pi\n",
        "delta1=[a]\n",
        "delta2=[b]\n",
        "chi=[]\n",
        "for i in [\"Lemonade\",\"Iced_Tea\",\"Cola\"]:\n",
        "  temp1=[]\n",
        "  temp2=[]\n",
        "  temp3={}\n",
        "  for j in transition.keys():\n",
        "    if j.endswith(\"CP\"):\n",
        "      if j.startswith(\"CP\"):\n",
        "        temp1.append(a*transition[j]*emission[\"CP\"][i])\n",
        "      else:\n",
        "        temp1.append(b*transition[j]*emission[\"IP\"][i])\n",
        "    else:\n",
        "      if j.startswith(\"IP\"):\n",
        "        temp2.append(b*transition[j]*emission[\"IP\"][i])\n",
        "      else:\n",
        "        temp2.append(a*transition[j]*emission[\"CP\"][i])\n",
        "  a=max(temp1)\n",
        "  b=max(temp2)\n",
        "  temp3[a]=\"CP\"\n",
        "  temp3[b]=\"IP\"\n",
        "  delta1.append(a)\n",
        "  delta2.append(b)\n",
        "  chi.append(temp3[max(temp3.keys())])\n",
        "  temp1.clear()\n",
        "  temp2.clear()\n",
        "  if i==\"Cola\":\n",
        "    print(\"Using Viterbi Chaining:\",round(a+b,4))\n",
        "    print(\"Best sequence :\")\n",
        "    for word in chi:\n",
        "      print(word,end=\"->\")\n",
        "print(\"\\n\",delta1,\"\\n\",delta2)"
      ]
    }
  ]
}