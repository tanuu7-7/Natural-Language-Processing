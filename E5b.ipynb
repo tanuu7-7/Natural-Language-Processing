{
 "cells": [
  {
   "cell_type": "code",
   "execution_count": 16,
   "id": "1f1dc341-9c2c-4f1d-a96b-6f7067fe2f36",
   "metadata": {},
   "outputs": [
    {
     "name": "stdout",
     "output_type": "stream",
     "text": [
      "Using backward chaining: 0.0315\n",
      "[0.6, 0.045000000000000005, 0.0315] \n",
      " [0.1, 0.245, 0.029]\n"
     ]
    }
   ],
   "source": [
    "transition={\"CPtoCP\":0.7,\"CPtoIP\":0.3,\"IPtoCP\":0.5,\"IPtoIP\":0.5}\n",
    "emission={\"CP\":{\"Cola\":0.6,\"Iced_Tea\":0.1,\"Lemonade\":0.3},\"IP\":{\"Cola\":0.1,\"Iced_Tea\":0.7,\"Lemonade\":0.2}}\n",
    "pi=(1,1)\n",
    "a=1\n",
    "b=1\n",
    "beta1=[]\n",
    "beta2=[]\n",
    "for i in reversed([\"Lemonade\",\"Iced_Tea\",\"Cola\"]):\n",
    "    temp1=[]\n",
    "    temp2=[]\n",
    "    for j in [\"CPtoCP\",\"CPtoIP\",\"IPtoCP\",\"IPtoIP\"]:\n",
    "        if j.startswith(\"CP\"):\n",
    "            if j.endswith(\"CP\"):\n",
    "                temp1.append(a*transition[j]*emission[\"CP\"][i])\n",
    "            else:\n",
    "                temp1.append(b*transition[j]*emission['CP'][i])\n",
    "        else:\n",
    "            if j.endswith(\"CP\"):\n",
    "                temp2.append(a*transition[j]*emission[\"IP\"][i])\n",
    "            else:\n",
    "                temp2.append(b*transition[j]*emission[\"IP\"][i])\n",
    "\n",
    "    a=sum(temp1)\n",
    "    b=sum(temp2)\n",
    "    beta1.append(a)\n",
    "    beta2.append(b)\n",
    "    temp1.clear()\n",
    "    temp2.clear()\n",
    "    if i==\"Lemonade\":\n",
    "        print(\"Using backward chaining:\",round(a,4))\n",
    "print(beta1,\"\\n\",beta2)"
   ]
  }
 ],
 "metadata": {
  "kernelspec": {
   "display_name": "Python 3 (ipykernel)",
   "language": "python",
   "name": "python3"
  },
  "language_info": {
   "codemirror_mode": {
    "name": "ipython",
    "version": 3
   },
   "file_extension": ".py",
   "mimetype": "text/x-python",
   "name": "python",
   "nbconvert_exporter": "python",
   "pygments_lexer": "ipython3",
   "version": "3.12.7"
  }
 },
 "nbformat": 4,
 "nbformat_minor": 5
}
