{
 "cells": [
  {
   "cell_type": "code",
   "execution_count": 55,
   "id": "b1211f09-1730-44ed-b0d7-6c93e61a5f96",
   "metadata": {},
   "outputs": [],
   "source": [
    "import pandas as pd\n",
    "df=pd.read_csv('Q2.csv',encoding='latin',header=None)\n",
    "sentences=[sent for sent in df[0]]"
   ]
  },
  {
   "cell_type": "code",
   "execution_count": 43,
   "id": "45ef2f5e-f286-48cc-b43d-9967c2fd4b0b",
   "metadata": {},
   "outputs": [],
   "source": [
    "import re\n",
    "from sklearn.feature_extraction.text import CountVectorizer,TfidfVectorizer\n",
    "from sklearn.model_selection import train_test_split\n",
    "from sklearn.naive_bayes import MultinomialNB\n",
    "from sklearn.metrics import accuracy_score,roc_curve,classification_report\n",
    "from tensorflow.keras.optimizers import Adam"
   ]
  },
  {
   "cell_type": "code",
   "execution_count": 27,
   "id": "4c020bb3-5868-429b-b863-04198e17f1b6",
   "metadata": {},
   "outputs": [],
   "source": [
    "df=pd.read_csv('texts.csv')"
   ]
  },
  {
   "cell_type": "code",
   "execution_count": 28,
   "id": "369a9ebd-19a0-4aac-932e-e7711f39e986",
   "metadata": {},
   "outputs": [],
   "source": [
    "le=LabelEncoder()"
   ]
  },
  {
   "cell_type": "code",
   "execution_count": 29,
   "id": "d1230ecd-5d51-41e9-bc62-db3e34221ebe",
   "metadata": {},
   "outputs": [],
   "source": [
    "df['label']=le.fit_transform(df['label'])"
   ]
  },
  {
   "cell_type": "code",
   "execution_count": 30,
   "id": "089de74f-015d-4271-8490-f9fde5f063e8",
   "metadata": {},
   "outputs": [],
   "source": [
    "X_train, X_test, y_train, y_test = train_test_split(df['text'],df['label'], test_size = 0.2, random_state = 42)"
   ]
  },
  {
   "cell_type": "code",
   "execution_count": 31,
   "id": "7d4a90a7-3423-4a9e-ad63-ac10245cc0cf",
   "metadata": {},
   "outputs": [],
   "source": [
    "bow_vect=CountVectorizer()\n",
    "tfidf_vect=TfidfVectorizer()"
   ]
  },
  {
   "cell_type": "code",
   "execution_count": 32,
   "id": "5ececc67-b1c6-4869-8234-a54c65120358",
   "metadata": {},
   "outputs": [],
   "source": [
    "X_train_bow=bow_vect.fit_transform(X_train).toarray()\n",
    "X_train_tfidf=tfidf_vect.fit_transform(X_train).toarray()"
   ]
  },
  {
   "cell_type": "code",
   "execution_count": 33,
   "id": "bb02799f-0719-4b94-9ea7-6dd8cbab0f9f",
   "metadata": {},
   "outputs": [],
   "source": [
    "X_test_bow=bow_vect.transform(X_test).toarray()\n",
    "X_test_tfidf=tfidf_vect.transform(X_test).toarray()"
   ]
  },
  {
   "cell_type": "code",
   "execution_count": 44,
   "id": "c633da8b-d4b8-414c-b8a8-119fda73a35c",
   "metadata": {},
   "outputs": [],
   "source": [
    "def build_model(input_dim):\n",
    "    model=Sequential([\n",
    "        Dense(16,activation='relu',input_dim=input_dim),\n",
    "        Dense(8,activation='relu'),\n",
    "        Dense(1,activation='sigmoid')\n",
    "    ])\n",
    "    model.compile(optimizer=Adam(learning_rate=0.001),loss='binary_crossentropy',metrics=['accuracy'])\n",
    "    return model"
   ]
  },
  {
   "cell_type": "code",
   "execution_count": 45,
   "id": "392871e6-dfb0-4c69-a3d8-38ddd635d158",
   "metadata": {},
   "outputs": [],
   "source": [
    "bow_model=build_model(X_train_bow.shape[1])\n",
    "tfidf_model=build_model(X_train_tfidf.shape[1])"
   ]
  },
  {
   "cell_type": "code",
   "execution_count": 46,
   "id": "9d5714f9-58a6-4997-b3fa-9528915b5f58",
   "metadata": {},
   "outputs": [
    {
     "name": "stdout",
     "output_type": "stream",
     "text": [
      "Epoch 1/10\n",
      "\u001b[1m2/2\u001b[0m \u001b[32m━━━━━━━━━━━━━━━━━━━━\u001b[0m\u001b[37m\u001b[0m \u001b[1m3s\u001b[0m 25ms/step - accuracy: 0.8333 - loss: 0.6123\n",
      "Epoch 2/10\n",
      "\u001b[1m2/2\u001b[0m \u001b[32m━━━━━━━━━━━━━━━━━━━━\u001b[0m\u001b[37m\u001b[0m \u001b[1m0s\u001b[0m 11ms/step - accuracy: 0.8333 - loss: 0.6030\n",
      "Epoch 3/10\n",
      "\u001b[1m2/2\u001b[0m \u001b[32m━━━━━━━━━━━━━━━━━━━━\u001b[0m\u001b[37m\u001b[0m \u001b[1m0s\u001b[0m 11ms/step - accuracy: 0.8333 - loss: 0.6266\n",
      "Epoch 4/10\n",
      "\u001b[1m2/2\u001b[0m \u001b[32m━━━━━━━━━━━━━━━━━━━━\u001b[0m\u001b[37m\u001b[0m \u001b[1m0s\u001b[0m 10ms/step - accuracy: 0.8333 - loss: 0.6196\n",
      "Epoch 5/10\n",
      "\u001b[1m2/2\u001b[0m \u001b[32m━━━━━━━━━━━━━━━━━━━━\u001b[0m\u001b[37m\u001b[0m \u001b[1m0s\u001b[0m 10ms/step - accuracy: 0.6667 - loss: 0.6862\n",
      "Epoch 6/10\n",
      "\u001b[1m2/2\u001b[0m \u001b[32m━━━━━━━━━━━━━━━━━━━━\u001b[0m\u001b[37m\u001b[0m \u001b[1m0s\u001b[0m 9ms/step - accuracy: 0.8333 - loss: 0.6064\n",
      "Epoch 7/10\n",
      "\u001b[1m2/2\u001b[0m \u001b[32m━━━━━━━━━━━━━━━━━━━━\u001b[0m\u001b[37m\u001b[0m \u001b[1m0s\u001b[0m 10ms/step - accuracy: 0.8333 - loss: 0.5600\n",
      "Epoch 8/10\n",
      "\u001b[1m2/2\u001b[0m \u001b[32m━━━━━━━━━━━━━━━━━━━━\u001b[0m\u001b[37m\u001b[0m \u001b[1m0s\u001b[0m 11ms/step - accuracy: 0.8333 - loss: 0.5924\n",
      "Epoch 9/10\n",
      "\u001b[1m2/2\u001b[0m \u001b[32m━━━━━━━━━━━━━━━━━━━━\u001b[0m\u001b[37m\u001b[0m \u001b[1m0s\u001b[0m 11ms/step - accuracy: 0.6667 - loss: 0.6858\n",
      "Epoch 10/10\n",
      "\u001b[1m2/2\u001b[0m \u001b[32m━━━━━━━━━━━━━━━━━━━━\u001b[0m\u001b[37m\u001b[0m \u001b[1m0s\u001b[0m 10ms/step - accuracy: 0.8333 - loss: 0.5406 \n",
      "Epoch 1/10\n",
      "\u001b[1m2/2\u001b[0m \u001b[32m━━━━━━━━━━━━━━━━━━━━\u001b[0m\u001b[37m\u001b[0m \u001b[1m2s\u001b[0m 19ms/step - accuracy: 0.3333 - loss: 0.7188\n",
      "Epoch 2/10\n",
      "\u001b[1m2/2\u001b[0m \u001b[32m━━━━━━━━━━━━━━━━━━━━\u001b[0m\u001b[37m\u001b[0m \u001b[1m0s\u001b[0m 10ms/step - accuracy: 0.5000 - loss: 0.6915\n",
      "Epoch 3/10\n",
      "\u001b[1m2/2\u001b[0m \u001b[32m━━━━━━━━━━━━━━━━━━━━\u001b[0m\u001b[37m\u001b[0m \u001b[1m0s\u001b[0m 10ms/step - accuracy: 0.6667 - loss: 0.6735\n",
      "Epoch 4/10\n",
      "\u001b[1m2/2\u001b[0m \u001b[32m━━━━━━━━━━━━━━━━━━━━\u001b[0m\u001b[37m\u001b[0m \u001b[1m0s\u001b[0m 10ms/step - accuracy: 0.3333 - loss: 0.705771\n",
      "Epoch 5/10\n",
      "\u001b[1m2/2\u001b[0m \u001b[32m━━━━━━━━━━━━━━━━━━━━\u001b[0m\u001b[37m\u001b[0m \u001b[1m0s\u001b[0m 7ms/step - accuracy: 0.5000 - loss: 0.6887 \n",
      "Epoch 6/10\n",
      "\u001b[1m2/2\u001b[0m \u001b[32m━━━━━━━━━━━━━━━━━━━━\u001b[0m\u001b[37m\u001b[0m \u001b[1m0s\u001b[0m 10ms/step - accuracy: 0.5000 - loss: 0.6753\n",
      "Epoch 7/10\n",
      "\u001b[1m2/2\u001b[0m \u001b[32m━━━━━━━━━━━━━━━━━━━━\u001b[0m\u001b[37m\u001b[0m \u001b[1m0s\u001b[0m 10ms/step - accuracy: 0.5000 - loss: 0.6721\n",
      "Epoch 8/10\n",
      "\u001b[1m2/2\u001b[0m \u001b[32m━━━━━━━━━━━━━━━━━━━━\u001b[0m\u001b[37m\u001b[0m \u001b[1m0s\u001b[0m 9ms/step - accuracy: 0.5000 - loss: 0.6689\n",
      "Epoch 9/10\n",
      "\u001b[1m2/2\u001b[0m \u001b[32m━━━━━━━━━━━━━━━━━━━━\u001b[0m\u001b[37m\u001b[0m \u001b[1m0s\u001b[0m 10ms/step - accuracy: 0.5000 - loss: 0.6735\n",
      "Epoch 10/10\n",
      "\u001b[1m2/2\u001b[0m \u001b[32m━━━━━━━━━━━━━━━━━━━━\u001b[0m\u001b[37m\u001b[0m \u001b[1m0s\u001b[0m 12ms/step - accuracy: 0.6667 - loss: 0.6480\n"
     ]
    },
    {
     "data": {
      "text/plain": [
       "<keras.src.callbacks.history.History at 0x1e25cd5a8d0>"
      ]
     },
     "execution_count": 46,
     "metadata": {},
     "output_type": "execute_result"
    }
   ],
   "source": [
    "bow_model.fit(X_train_bow, y_train, epochs=10, batch_size=2, verbose=1)\n",
    "tfidf_model.fit(X_train_tfidf, y_train, epochs=10, batch_size=2, verbose=1)"
   ]
  },
  {
   "cell_type": "code",
   "execution_count": 47,
   "id": "a5203a67-2579-42c6-8cb4-d330276da5ce",
   "metadata": {},
   "outputs": [
    {
     "name": "stdout",
     "output_type": "stream",
     "text": [
      "\u001b[1m1/1\u001b[0m \u001b[32m━━━━━━━━━━━━━━━━━━━━\u001b[0m\u001b[37m\u001b[0m \u001b[1m0s\u001b[0m 300ms/step - accuracy: 1.0000 - loss: 0.5702\n"
     ]
    }
   ],
   "source": [
    "accuracy = bow_model.evaluate(X_test_bow, y_test)"
   ]
  },
  {
   "cell_type": "code",
   "execution_count": 54,
   "id": "c1e1f859-fe9e-4ff2-a714-8bd651bebb16",
   "metadata": {},
   "outputs": [
    {
     "name": "stdout",
     "output_type": "stream",
     "text": [
      "\u001b[1m1/1\u001b[0m \u001b[32m━━━━━━━━━━━━━━━━━━━━\u001b[0m\u001b[37m\u001b[0m \u001b[1m0s\u001b[0m 71ms/step\n"
     ]
    }
   ],
   "source": [
    "y_pred=bow_model.predict(X_test_bow)"
   ]
  },
  {
   "cell_type": "code",
   "execution_count": 58,
   "id": "e76e06c3-c907-4137-9916-5e5571d9d866",
   "metadata": {},
   "outputs": [
    {
     "data": {
      "text/plain": [
       "['She walked into the room with a phone in her hand.',\n",
       " 'The chef cooked dinner, chopping vegetables and occasionally referring to recipes on a phone propped up on the counter.',\n",
       " 'John entered the cafe with a phone tucked into his pocket.',\n",
       " 'She stood in line, chatting with the person ahead of her and occasionally checking the time on a phone in her hand.',\n",
       " 'The teenager sat on the bench with a phone in hand, lost in thought.',\n",
       " 'The researcher conducted experiments, carefully documenting their findings and occasionally referring to notes on a phone.',\n",
       " 'Sarah hurried down the street with a phone pressed to her ear.',\n",
       " 'They sat in the car, discussing their plans for the day and occasionally adjusting the volume on a phone connected to the stereo system.',\n",
       " 'The delivery person arrived at the doorstep with a phone buzzing in their pocket.',\n",
       " 'The doctor entered the examination room, greeted by the sight of a patient and a phone buzzing on the desk.',\n",
       " 'He rushed through the airport with a phone clutched tightly in his hand.',\n",
       " 'He drove down the highway, singing along to the radio and occasionally glancing at a phone mounted on the dashboard for navigation.',\n",
       " 'They entered the meeting room with a phone resting on the table.',\n",
       " 'She strolled through the park, enjoying the sunshine and occasionally checking messages on a phone in her purse.',\n",
       " 'The child ran around the playground with a phone dangling from their backpack.',\n",
       " 'They wandered through the museum, admiring the artwork and occasionally snapping photos with a phone camera.',\n",
       " 'She sat at the café with a phone lying beside her coffee cup.',\n",
       " 'The librarian walked through the aisles, shelving books and occasionally pausing to answer a call on a phone clipped to their belt.',\n",
       " 'He approached the podium with a phone tucked into the inner pocket of his suit.',\n",
       " 'The musician performed on stage, strumming their guitar and occasionally glancing at a phone on a nearby stand.',\n",
       " 'The musician performed on stage with a phone placed on the amplifier.',\n",
       " 'He approached the podium, adjusting the microphone and clearing his throat before reaching for a phone in his pocket.',\n",
       " 'The librarian walked through the aisles with a phone peeking out of her pocket.',\n",
       " 'She sat at the café, sipping her coffee and occasionally glancing at a phone placed on the table.',\n",
       " 'They wandered through the museum with a phone capturing every exhibit.',\n",
       " 'The child ran around the playground, laughing with friends and occasionally pausing to take a call on a phone.',\n",
       " 'She strolled through the park with a phone playing music in her hand.',\n",
       " 'They entered the meeting room, greeted by the sound of chatter and the sight of a phone lighting up on the conference table.',\n",
       " 'He drove down the highway with a phone mounted on the dashboard.',\n",
       " 'He rushed through the airport, searching for his gate with a phone in one hand and his boarding pass in the other.',\n",
       " 'The doctor entered the examination room with a phone tucked into the lab coat.',\n",
       " 'The delivery person arrived at the doorstep, holding a package and a phone buzzing in their pocket.',\n",
       " 'They sat in the car with a phone connected to the stereo system.',\n",
       " 'Sarah hurried down the street, struggling to juggle her groceries and a phone ringing in her bag.',\n",
       " ' The researcher conducted experiments with a phone recording every step.',\n",
       " 'The teenager sat on the bench, engrossed in a book, with a phone lying forgotten beside them.',\n",
       " 'She stood in line with a phone in her purse, ready to make a call if needed.',\n",
       " 'John entered the cafe, greeted by the aroma of coffee and the sight of a phone on the counter.',\n",
       " 'The chef cooked dinner with a phone nearby, ready to check recipes.',\n",
       " 'She walked into the room, her hands filled with papers and a phone.',\n",
       " 'She saw the sunset with a sense of wonder.',\n",
       " 'She walked down the street with a phone and saw her friend waiting at the corner.',\n",
       " 'He saw through the deception with a keen eye.',\n",
       " 'He traveled to the countryside with a phone and saw breathtaking views of nature.',\n",
       " 'They saw the world with newfound clarity.',\n",
       " 'They went to the concert with a phone and saw their favorite band perform live.',\n",
       " 'The artist saw beauty in simplicity with every stroke of the brush.',\n",
       " 'Sarah went for a hike with a phone and saw a rare bird in the forest.',\n",
       " 'She saw the future with uncertainty looming.',\n",
       " 'The tourist explored the city with a phone and saw famous landmarks.',\n",
       " 'He saw through the mist with a steady gaze.',\n",
       " 'He attended the conference with a phone and saw inspiring speakers on stage.',\n",
       " 'They saw the truth with unclouded vision.',\n",
       " 'They visited the art gallery with a phone and saw stunning paintings and sculptures.',\n",
       " \"The detective saw through the suspect's alibi with careful scrutiny.\",\n",
       " 'She went to the beach with a phone and saw dolphins swimming in the ocean.',\n",
       " 'She saw the potential in the project with a fresh perspective.',\n",
       " 'John went to the museum with a phone and saw ancient artifacts from different cultures.',\n",
       " 'He saw the flaws in the plan with critical analysis.',\n",
       " 'The student went to the library with a phone and saw rows of books on various subjects.',\n",
       " 'They saw the humor in the situation with a shared laugh.',\n",
       " 'He went to the zoo with a phone and saw exotic animals from around the world.',\n",
       " 'She saw the opportunity with a sense of excitement.',\n",
       " 'They went to the amusement park with a phone and saw thrilling rides and attractions.',\n",
       " 'He saw the chaos unfolding with a sense of urgency.',\n",
       " 'She went to the botanical garden with a phone and saw colorful flowers and plants.',\n",
       " 'They saw the stars with awe-inspiring wonder.',\n",
       " 'He went to the aquarium with a phone and saw diverse marine life.',\n",
       " 'The scientist saw patterns emerge with each experiment.',\n",
       " 'They went to the theater with a phone and saw a captivating play.',\n",
       " \"She saw the beauty in imperfection with an artist's eye.\",\n",
       " 'Sarah went to the market with a phone and saw fresh produce and local goods.',\n",
       " 'He saw the danger ahead with a quick assessment.',\n",
       " 'He went to the observatory with a phone and saw distant galaxies through a telescope.',\n",
       " 'They saw the challenges ahead with determination in their hearts.',\n",
       " 'They went to the sports stadium with a phone and saw an intense match between rival teams.',\n",
       " 'The explorer saw the world with a sense of adventure.',\n",
       " 'She went to the planetarium with a phone and saw a fascinating presentation about the cosmos.',\n",
       " 'She saw the silver lining in every cloud with optimism.',\n",
       " 'John went to the historic site with a phone and saw artifacts from ancient civilizations.']"
      ]
     },
     "execution_count": 58,
     "metadata": {},
     "output_type": "execute_result"
    }
   ],
   "source": [
    "list(df[0])"
   ]
  }
 ],
 "metadata": {
  "kernelspec": {
   "display_name": "Python 3 (ipykernel)",
   "language": "python",
   "name": "python3"
  },
  "language_info": {
   "codemirror_mode": {
    "name": "ipython",
    "version": 3
   },
   "file_extension": ".py",
   "mimetype": "text/x-python",
   "name": "python",
   "nbconvert_exporter": "python",
   "pygments_lexer": "ipython3",
   "version": "3.12.7"
  }
 },
 "nbformat": 4,
 "nbformat_minor": 5
}
