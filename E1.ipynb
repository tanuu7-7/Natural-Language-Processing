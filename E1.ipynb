{
 "cells": [
  {
   "cell_type": "code",
   "execution_count": 10,
   "id": "c858d271-2aab-4140-acaf-c2610094002f",
   "metadata": {},
   "outputs": [
    {
     "data": {
      "text/html": [
       "<div>\n",
       "<style scoped>\n",
       "    .dataframe tbody tr th:only-of-type {\n",
       "        vertical-align: middle;\n",
       "    }\n",
       "\n",
       "    .dataframe tbody tr th {\n",
       "        vertical-align: top;\n",
       "    }\n",
       "\n",
       "    .dataframe thead th {\n",
       "        text-align: right;\n",
       "    }\n",
       "</style>\n",
       "<table border=\"1\" class=\"dataframe\">\n",
       "  <thead>\n",
       "    <tr style=\"text-align: right;\">\n",
       "      <th></th>\n",
       "      <th>Unnamed: 0</th>\n",
       "      <th>Sentences for Training</th>\n",
       "      <th>Sense of the word \"Bank\"</th>\n",
       "    </tr>\n",
       "  </thead>\n",
       "  <tbody>\n",
       "    <tr>\n",
       "      <th>0</th>\n",
       "      <td>NaN</td>\n",
       "      <td>I deposited my paycheck at the bank.</td>\n",
       "      <td>Financial Institution</td>\n",
       "    </tr>\n",
       "    <tr>\n",
       "      <th>1</th>\n",
       "      <td>NaN</td>\n",
       "      <td>The bank of the river was eroded by the heavy ...</td>\n",
       "      <td>River Border</td>\n",
       "    </tr>\n",
       "    <tr>\n",
       "      <th>2</th>\n",
       "      <td>NaN</td>\n",
       "      <td>She works at the bank as a teller.</td>\n",
       "      <td>Financial Institution</td>\n",
       "    </tr>\n",
       "    <tr>\n",
       "      <th>3</th>\n",
       "      <td>NaN</td>\n",
       "      <td>Let's have a picnic by the bank of the river.</td>\n",
       "      <td>River Border</td>\n",
       "    </tr>\n",
       "    <tr>\n",
       "      <th>4</th>\n",
       "      <td>NaN</td>\n",
       "      <td>The bank approved my loan application.</td>\n",
       "      <td>Financial Institution</td>\n",
       "    </tr>\n",
       "    <tr>\n",
       "      <th>...</th>\n",
       "      <td>...</td>\n",
       "      <td>...</td>\n",
       "      <td>...</td>\n",
       "    </tr>\n",
       "    <tr>\n",
       "      <th>96</th>\n",
       "      <td>NaN</td>\n",
       "      <td>I need to update my contact information with t...</td>\n",
       "      <td>?</td>\n",
       "    </tr>\n",
       "    <tr>\n",
       "      <th>97</th>\n",
       "      <td>NaN</td>\n",
       "      <td>The bank provides online banking services for ...</td>\n",
       "      <td>?</td>\n",
       "    </tr>\n",
       "    <tr>\n",
       "      <th>98</th>\n",
       "      <td>NaN</td>\n",
       "      <td>The beavers constructed a dam along the bank o...</td>\n",
       "      <td>?</td>\n",
       "    </tr>\n",
       "    <tr>\n",
       "      <th>99</th>\n",
       "      <td>NaN</td>\n",
       "      <td>I need to check my transaction history at the ...</td>\n",
       "      <td>?</td>\n",
       "    </tr>\n",
       "    <tr>\n",
       "      <th>100</th>\n",
       "      <td>NaN</td>\n",
       "      <td>She works as a financial consultant at the bank.</td>\n",
       "      <td>?</td>\n",
       "    </tr>\n",
       "  </tbody>\n",
       "</table>\n",
       "<p>101 rows × 3 columns</p>\n",
       "</div>"
      ],
      "text/plain": [
       "     Unnamed: 0                            Sentences for Training   \\\n",
       "0           NaN               I deposited my paycheck at the bank.   \n",
       "1           NaN  The bank of the river was eroded by the heavy ...   \n",
       "2           NaN                She works at the bank as a teller.    \n",
       "3           NaN     Let's have a picnic by the bank of the river.    \n",
       "4           NaN            The bank approved my loan application.    \n",
       "..          ...                                                ...   \n",
       "96          NaN  I need to update my contact information with t...   \n",
       "97          NaN  The bank provides online banking services for ...   \n",
       "98          NaN  The beavers constructed a dam along the bank o...   \n",
       "99          NaN  I need to check my transaction history at the ...   \n",
       "100         NaN  She works as a financial consultant at the bank.    \n",
       "\n",
       "    Sense of the word \"Bank\"  \n",
       "0      Financial Institution  \n",
       "1               River Border  \n",
       "2      Financial Institution  \n",
       "3               River Border  \n",
       "4      Financial Institution  \n",
       "..                       ...  \n",
       "96                         ?  \n",
       "97                         ?  \n",
       "98                         ?  \n",
       "99                         ?  \n",
       "100                        ?  \n",
       "\n",
       "[101 rows x 3 columns]"
      ]
     },
     "execution_count": 10,
     "metadata": {},
     "output_type": "execute_result"
    }
   ],
   "source": [
    "import pandas as pd\n",
    "df=pd.read_excel('Bank.xlsx')\n",
    "df"
   ]
  },
  {
   "cell_type": "code",
   "execution_count": 11,
   "id": "f337b3e1-c362-4676-9b4a-80b36d18e8ce",
   "metadata": {},
   "outputs": [],
   "source": [
    "df.to_excel('out.xlsx')"
   ]
  },
  {
   "cell_type": "code",
   "execution_count": 13,
   "id": "13953402-2e7f-4a5c-acfc-051a3737418e",
   "metadata": {},
   "outputs": [],
   "source": [
    "df.to_csv('out.csv')"
   ]
  },
  {
   "cell_type": "code",
   "execution_count": 14,
   "id": "c353cc32-bc0e-4211-ba2e-da40d3b44c98",
   "metadata": {},
   "outputs": [
    {
     "name": "stdout",
     "output_type": "stream",
     "text": [
      "['', 'Unnamed: 0', 'Sentences for Training ', 'Sense of the word \"Bank\"']\n",
      "['0', '', ' I deposited my paycheck at the bank.', 'Financial Institution']\n",
      "['1', '', 'The bank of the river was eroded by the heavy rains. ', 'River Border']\n",
      "['2', '', 'She works at the bank as a teller. ', 'Financial Institution']\n",
      "['3', '', \"Let's have a picnic by the bank of the river. \", 'River Border']\n",
      "['4', '', 'The bank approved my loan application. ', 'Financial Institution']\n",
      "['5', '', 'The fisherman cast his line near the bank of the river. ', 'River Border']\n",
      "['6', '', 'We need to transfer funds between banks.', 'Financial Institution']\n",
      "['7', '', 'The children built a sandcastle by the bank of the river. ', 'River Border']\n",
      "['8', '', 'The bank is open from 9 am to 5 pm.', 'Financial Institution']\n",
      "['9', '', 'Ducks were swimming peacefully along the bank of the river. ', 'River Border']\n",
      "['10', '', 'I need to check my account balance at the bank.', 'Financial Institution']\n",
      "['11', '', 'The campsite was situated by the bank of the river. ', 'River Border']\n",
      "['12', '', 'She invested her savings in the stock market through the bank.', 'Financial Institution']\n",
      "['13', '', 'The trees shaded the bank of the river, creating a serene atmosphere. ', 'River Border']\n",
      "['14', '', 'He withdrew cash from the ATM at the bank.', 'Financial Institution']\n",
      "['15', '', 'The canoeists navigated along the winding bank of the river. ', 'River Border']\n",
      "['16', '', 'The bank offers various financial services to its customers. ', 'Financial Institution']\n",
      "['17', '', 'The water level rose dangerously close to the bank of the river.', 'River Border']\n",
      "['18', '', 'They applied for a mortgage at the bank to buy a house. ', 'Financial Institution']\n",
      "['19', '', 'We enjoyed a leisurely stroll along the bank of the river.', 'River Border']\n",
      "['20', '', \"The bank's profits soared last quarter. \", 'Financial Institution']\n",
      "['21', '', 'The otters frolicked by the bank of the river.', 'River Border']\n",
      "['22', '', 'I need to check the interest rates at the bank. ', 'Financial Institution']\n",
      "['23', '', 'The kids skipped stones across the calm bank of the river. ', 'River Border']\n",
      "['24', '', 'She works as a financial analyst at the bank. ', 'Financial Institution']\n",
      "['25', '', 'The bank of the river provided a natural barrier against flooding. ', 'River Border']\n",
      "['26', '', 'We need to transfer money to our overseas bank account. ', 'Financial Institution']\n",
      "['27', '', 'The sunset painted the bank of the river in vibrant hues. (River Border)', 'River Border']\n",
      "['28', '', 'The bank manager greeted customers with a warm smile. (Financial Institution)', 'Financial Institution']\n",
      "['29', '', 'The fishermen set up their gear near the bank of the river. (River Border)', 'River Border']\n",
      "['30', '', \"The bank's security system prevented the robbery. (Financial Institution)\", 'Financial Institution']\n",
      "['31', '', 'The hikers followed the trail along the bank of the river. (River Border)', 'River Border']\n",
      "['32', '', \"hey're planning to open a new branch of the bank in the city center.\", 'Financial Institution']\n",
      "['33', '', 'The deer came to drink from the cool waters at the bank of the river.', 'River Border']\n",
      "['34', '', 'The bank offered competitive interest rates on savings accounts. ', 'Financial Institution']\n",
      "['35', '', 'The kayakers paddled downstream along the meandering bank of the river.', 'River Border']\n",
      "['36', '', 'The bank provided a loan for the construction of our new home. ', 'Financial Institution']\n",
      "['37', '', 'The heron stood majestically on the bank of the river, waiting for its prey.', 'River Border']\n",
      "['38', '', 'I need to visit the bank to deposit this check.', 'Financial Institution']\n",
      "['39', '', \"The bank's headquarters are located in the financial district.\", 'Financial Institution']\n",
      "['40', '', 'The old oak tree marked the bend in the bank of the river.', 'River Border']\n",
      "['41', '', 'I need to update my account information at the bank.', 'Financial Institution']\n",
      "['42', '', 'The otters slid playfully down the muddy bank of the river.', 'River Border']\n",
      "['43', '', 'The bank offers online banking services for convenience.', 'Financial Institution']\n",
      "['44', '', 'The swans gracefully glided along the glassy bank of the river.', 'River Border']\n",
      "['45', '', 'The kids skipped rocks across the smooth bank of the river.', 'River Border']\n",
      "['46', '', 'She works as a loan officer at the bank. ', 'Financial Institution']\n",
      "['47', '', 'The bank of the river was teeming with wildlife.', 'River Border']\n",
      "['48', '', 'We need to check the exchange rates at the bank before traveling.', 'Financial Institution']\n",
      "['49', '', 'The campers set up tents by the bank of the river.', 'River Border']\n",
      "['50', '', 'The bank provided financial assistance to small businesses.', 'Financial Institution']\n",
      "['51', '', 'The sound of rushing water echoed along the bank of the river.', 'River Border']\n",
      "['52', '', 'I need to schedule a meeting with the bank manager.', 'Financial Institution']\n",
      "['53', '', 'The willow trees swayed gently along the bank of the river.', 'River Border']\n",
      "['54', '', 'The bank offers credit cards with attractive rewards.', 'Financial Institution']\n",
      "['55', '', 'The children collected pebbles along the bank of the river.', 'River Border']\n",
      "['56', '', \" The bank's security guard apprehended the thief.\", 'Financial Institution']\n",
      "['57', '', 'The picnic blanket was spread out on the grassy bank of the river.', 'River Border']\n",
      "['58', '', \" I need to transfer money to my sister's bank account.\", 'Financial Institution']\n",
      "['59', '', 'The beavers built a dam along the bank of the river.', 'River Border']\n",
      "['60', '', 'She works as a financial advisor at the bank.', 'Financial Institution']\n",
      "['61', '', 'The bank of the river was home to a variety of aquatic plants.', 'River Border']\n",
      "['62', '', 'I need to update my banking information for direct deposit. ', 'Financial Institution']\n",
      "['63', '', 'The children caught tadpoles along the shallow bank of the river. ', 'River Border']\n",
      "['64', '', 'The bank offers investment opportunities for long-term growth. ', 'Financial Institution']\n",
      "['65', '', 'The sun set behind the tall trees lining the bank of the river. ', 'River Border']\n",
      "['66', '', 'I need to deposit this check into my savings account at the bank.', 'Financial Institution']\n",
      "['67', '', 'The rocks along the bank of the river were smooth from years of erosion. ', 'River Border']\n",
      "['68', '', 'The bank provides excellent customer service.', 'Financial Institution']\n",
      "['69', '', 'The heron perched on a branch overlooking the bank of the river. ', 'River Border']\n",
      "['70', '', 'I need to update my online banking password.', 'Financial Institution']\n",
      "['71', '', 'The children splashed in the shallows along the bank of the river.', 'River Border']\n",
      "['72', '', \"The bank's corporate headquarters are located in the city.\", 'Financial Institution']\n",
      "['73', '', 'The moonlight shimmered on the still waters along the bank of the river. ', 'River Border']\n",
      "['74', '', ' I need to transfer funds between my checking and savings accounts at the bank. ', 'Financial Institution']\n",
      "['75', '', 'The reeds rustled softly along the bank of the river. ', 'River Border']\n",
      "['76', '', ' The bank offers retirement planning services. ', 'Financial Institution']\n",
      "['77', '', 'The swimmers crossed the river by holding onto the bank.', 'River Border']\n",
      "['78', '', 'I need to check my balance at the bank. ', 'Financial Institution']\n",
      "['79', '', 'The ducks waddled along the muddy bank of the river. ', 'River Border']\n",
      "['80', '', 'She works as a financial planner at the bank. ', 'Financial Institution']\n",
      "['81', '', 'The bank of the river provided a natural habitat for frogs and turtles. ', 'River Border']\n",
      "['82', '', 'I need to make a withdrawal from the ATM at the bank.', 'Financial Institution']\n",
      "['83', '', 'The rowers raced along the straight bank of the river. ', 'River Border']\n",
      "['84', '', 'I need to visit the bank to apply for a credit card. ', 'Financial Institution']\n",
      "['85', '', 'The fishermen cast their lines from the rocky bank of the river. ', 'River Border']\n",
      "['86', '', 'The bank offers competitive mortgage rates.', 'Financial Institution']\n",
      "['87', '', 'The canoeists navigated through the narrow bank of the river. ', 'River Border']\n",
      "['88', '', 'The children built sandcastles along the sandy bank of the river.', 'River Border']\n",
      "['89', '', 'The otters played along the grassy bank of the river. ', 'River Border']\n",
      "['90', '', 'The bank of the river was a popular spot for picnics.', 'River Border']\n",
      "['91', '', 'I need to deposit this check into my checking account at the bank. ', 'Financial Institution']\n",
      "['92', '', 'The children skipped stones across the calm bank of the river. ', 'River Border']\n",
      "['93', '', 'Identify the sense of the ambiguous word \"bank\" in the sentences given below', '']\n",
      "['94', '', 'The children built a dam on the bank of the river using rocks and sticks.', '?']\n",
      "['95', '', 'We need to withdraw some cash from the bank for groceries.', '?']\n",
      "['96', '', 'I need to update my contact information with the bank. ', '?']\n",
      "['97', '', 'The bank provides online banking services for convenience. ', '?']\n",
      "['98', '', 'The beavers constructed a dam along the bank of the river.', '?']\n",
      "['99', '', 'I need to check my transaction history at the bank. ', '?']\n",
      "['100', '', 'She works as a financial consultant at the bank. ', '?']\n"
     ]
    }
   ],
   "source": [
    "import csv\n",
    "with open('out.csv',mode='r') as file:\n",
    "    reader=csv.reader(file)\n",
    "    for row in reader:\n",
    "        print(row)"
   ]
  },
  {
   "cell_type": "code",
   "execution_count": 15,
   "id": "24059b48-b1e9-4d3a-8ddc-cd77b3ab8430",
   "metadata": {},
   "outputs": [
    {
     "name": "stderr",
     "output_type": "stream",
     "text": [
      "[nltk_data] Downloading package punkt to\n",
      "[nltk_data]     C:\\Users\\Tanuu\\AppData\\Roaming\\nltk_data...\n",
      "[nltk_data]   Package punkt is already up-to-date!\n",
      "[nltk_data] Downloading package stopwords to\n",
      "[nltk_data]     C:\\Users\\Tanuu\\AppData\\Roaming\\nltk_data...\n",
      "[nltk_data]   Package stopwords is already up-to-date!\n",
      "[nltk_data] Downloading package wordnet to\n",
      "[nltk_data]     C:\\Users\\Tanuu\\AppData\\Roaming\\nltk_data...\n",
      "[nltk_data]   Package wordnet is already up-to-date!\n",
      "[nltk_data] Downloading package averaged_perceptron_tagger to\n",
      "[nltk_data]     C:\\Users\\Tanuu\\AppData\\Roaming\\nltk_data...\n",
      "[nltk_data]   Package averaged_perceptron_tagger is already up-to-\n",
      "[nltk_data]       date!\n",
      "[nltk_data] Downloading package maxent_ne_chunker to\n",
      "[nltk_data]     C:\\Users\\Tanuu\\AppData\\Roaming\\nltk_data...\n",
      "[nltk_data]   Package maxent_ne_chunker is already up-to-date!\n",
      "[nltk_data] Downloading package words to\n",
      "[nltk_data]     C:\\Users\\Tanuu\\AppData\\Roaming\\nltk_data...\n",
      "[nltk_data]   Package words is already up-to-date!\n"
     ]
    },
    {
     "data": {
      "text/plain": [
       "True"
      ]
     },
     "execution_count": 15,
     "metadata": {},
     "output_type": "execute_result"
    }
   ],
   "source": [
    "import nltk\n",
    "nltk.download('punkt')\n",
    "nltk.download('stopwords')\n",
    "nltk.download('wordnet')\n",
    "nltk.download('averaged_perceptron_tagger')\n",
    "nltk.download('maxent_ne_chunker')\n",
    "nltk.download('words')"
   ]
  },
  {
   "cell_type": "code",
   "execution_count": 16,
   "id": "40ef9c04-2c34-4b99-9a51-6bc6d3100e62",
   "metadata": {},
   "outputs": [
    {
     "name": "stdout",
     "output_type": "stream",
     "text": [
      "Word tokens: ['Hello', '!', 'How', 'are', 'you', 'doing', 'today', '?', 'I', \"'m\", 'learning', 'NLTK', '.']\n",
      "Sentence tokens: ['Hello!', 'How are you doing today?', \"I'm learning NLTK.\"]\n"
     ]
    },
    {
     "name": "stderr",
     "output_type": "stream",
     "text": [
      "[nltk_data] Downloading package punkt_tab to\n",
      "[nltk_data]     C:\\Users\\Tanuu\\AppData\\Roaming\\nltk_data...\n",
      "[nltk_data]   Package punkt_tab is already up-to-date!\n"
     ]
    }
   ],
   "source": [
    "nltk.download('punkt_tab')\n",
    "from nltk.tokenize import word_tokenize,sent_tokenize\n",
    "text=\"Hello! How are you doing today? I'm learning NLTK.\"\n",
    "wtokens=word_tokenize(text)\n",
    "stokens=sent_tokenize(text)\n",
    "print(\"Word tokens:\",wtokens)\n",
    "print(\"Sentence tokens:\",stokens)"
   ]
  },
  {
   "cell_type": "code",
   "execution_count": 17,
   "id": "9bc70d4c-e715-4ae6-bbab-6a3fadc4654c",
   "metadata": {},
   "outputs": [
    {
     "name": "stdout",
     "output_type": "stream",
     "text": [
      "bad.n.01 that which is below standard or expectations as of ethics or decency\n",
      "bad.a.01 having undesirable or negative qualities\n",
      "bad.s.02 very intense\n",
      "bad.s.03 feeling physical discomfort or pain (`tough' is occasionally used colloquially for `bad')\n",
      "bad.s.04 (of foodstuffs) not in an edible or usable condition\n",
      "regretful.a.01 feeling or expressing regret or sorrow or a sense of loss over something done or undone\n",
      "bad.s.06 not capable of being collected\n",
      "bad.s.07 below average in quality or performance\n",
      "bad.s.08 nonstandard\n",
      "bad.s.09 not financially safe or secure\n",
      "bad.s.10 physically unsound or diseased\n",
      "bad.s.11 capable of harming\n",
      "bad.s.12 characterized by wickedness or immorality\n",
      "bad.s.13 reproduced fraudulently\n",
      "bad.s.14 not working properly\n",
      "badly.r.05 with great intensity (`bad' is a nonstandard variant for `badly')\n",
      "badly.r.06 very much; strongly\n",
      "Examples: ['bad meat', 'a refrigerator full of spoilt food']\n"
     ]
    }
   ],
   "source": [
    "from nltk.corpus import wordnet\n",
    "synonyms=wordnet.synsets('bad')\n",
    "for syn in synonyms:\n",
    "    print(syn.name(),syn.definition())\n",
    "print(\"Examples:\", synonyms[4].examples())"
   ]
  },
  {
   "cell_type": "code",
   "execution_count": 18,
   "id": "d65d026f-5e4e-4cd1-ad97-4213b5f8381c",
   "metadata": {},
   "outputs": [
    {
     "name": "stdout",
     "output_type": "stream",
     "text": [
      "['This', 'sample', 'sentence', ',', 'showing', 'stop', 'words', 'filtration', '.']\n"
     ]
    }
   ],
   "source": [
    "from nltk.corpus import stopwords\n",
    "stop_words=set(stopwords.words('english'))\n",
    "text = \"This is a sample sentence, showing off the stop words filtration.\"\n",
    "word_tokens = word_tokenize(text)\n",
    "filtered=[word for word in word_tokens if word not in stop_words]\n",
    "print(filtered)"
   ]
  },
  {
   "cell_type": "code",
   "execution_count": 19,
   "id": "546b04b4-a654-40dc-913b-1345469fbf72",
   "metadata": {},
   "outputs": [
    {
     "name": "stdout",
     "output_type": "stream",
     "text": [
      "Stemmed Words: ['run', 'ran', 'runner', 'easili', 'fairli']\n"
     ]
    }
   ],
   "source": [
    "from nltk.stem import PorterStemmer\n",
    "ps=PorterStemmer()\n",
    "words=[\"running\", \"ran\", \"runner\", \"easily\", \"fairly\"]\n",
    "stemmed_words = [ps.stem(word) for word in words]\n",
    "print(\"Stemmed Words:\", stemmed_words)"
   ]
  },
  {
   "cell_type": "code",
   "execution_count": 21,
   "id": "e6b52d60-d2ab-423c-bd83-b90986e84eb2",
   "metadata": {},
   "outputs": [
    {
     "name": "stdout",
     "output_type": "stream",
     "text": [
      "Stemmed Words: ['running', 'ran', 'runner', 'easily', 'fairly']\n"
     ]
    }
   ],
   "source": [
    "from nltk.stem import WordNetLemmatizer\n",
    "lemmatizer=WordNetLemmatizer()\n",
    "stemmed_words = [lemmatizer.lemmatize(word) for word in words]\n",
    "print(\"Stemmed Words:\", stemmed_words)"
   ]
  },
  {
   "cell_type": "code",
   "execution_count": 29,
   "id": "ff3f601a-3b1b-4eb3-8892-a8ced3470ae8",
   "metadata": {},
   "outputs": [
    {
     "ename": "LookupError",
     "evalue": "\n**********************************************************************\n  Resource \u001b[93maveraged_perceptron_tagger_eng\u001b[0m not found.\n  Please use the NLTK Downloader to obtain the resource:\n\n  \u001b[31m>>> import nltk\n  >>> nltk.download('averaged_perceptron_tagger_eng')\n  \u001b[0m\n  For more information see: https://www.nltk.org/data.html\n\n  Attempted to load \u001b[93mtaggers/averaged_perceptron_tagger_eng/\u001b[0m\n\n  Searched in:\n    - 'C:\\\\Users\\\\Tanuu/nltk_data'\n    - 'C:\\\\Users\\\\Tanuu\\\\anaconda3\\\\nltk_data'\n    - 'C:\\\\Users\\\\Tanuu\\\\anaconda3\\\\share\\\\nltk_data'\n    - 'C:\\\\Users\\\\Tanuu\\\\anaconda3\\\\lib\\\\nltk_data'\n    - 'C:\\\\Users\\\\Tanuu\\\\AppData\\\\Roaming\\\\nltk_data'\n    - 'C:\\\\nltk_data'\n    - 'D:\\\\nltk_data'\n    - 'E:\\\\nltk_data'\n**********************************************************************\n",
     "output_type": "error",
     "traceback": [
      "\u001b[1;31m---------------------------------------------------------------------------\u001b[0m",
      "\u001b[1;31mLookupError\u001b[0m                               Traceback (most recent call last)",
      "Cell \u001b[1;32mIn[29], line 4\u001b[0m\n\u001b[0;32m      2\u001b[0m \u001b[38;5;28;01mfrom\u001b[39;00m \u001b[38;5;21;01mnltk\u001b[39;00m \u001b[38;5;28;01mimport\u001b[39;00m ne_chunk,pos_tag,word_tokenize\n\u001b[0;32m      3\u001b[0m words\u001b[38;5;241m=\u001b[39mword_tokenize(\u001b[38;5;124m\"\u001b[39m\u001b[38;5;124mBarack Obama was the 44th President of the United States.\u001b[39m\u001b[38;5;124m\"\u001b[39m)\n\u001b[1;32m----> 4\u001b[0m pos_tags\u001b[38;5;241m=\u001b[39mpos_tag(words)\n\u001b[0;32m      5\u001b[0m entities\u001b[38;5;241m=\u001b[39mne_chunk(pos_tags)\n\u001b[0;32m      6\u001b[0m \u001b[38;5;28mprint\u001b[39m(entities)\n",
      "File \u001b[1;32m~\\anaconda3\\Lib\\site-packages\\nltk\\tag\\__init__.py:168\u001b[0m, in \u001b[0;36mpos_tag\u001b[1;34m(tokens, tagset, lang)\u001b[0m\n\u001b[0;32m    143\u001b[0m \u001b[38;5;28;01mdef\u001b[39;00m \u001b[38;5;21mpos_tag\u001b[39m(tokens, tagset\u001b[38;5;241m=\u001b[39m\u001b[38;5;28;01mNone\u001b[39;00m, lang\u001b[38;5;241m=\u001b[39m\u001b[38;5;124m\"\u001b[39m\u001b[38;5;124meng\u001b[39m\u001b[38;5;124m\"\u001b[39m):\n\u001b[0;32m    144\u001b[0m \u001b[38;5;250m    \u001b[39m\u001b[38;5;124;03m\"\"\"\u001b[39;00m\n\u001b[0;32m    145\u001b[0m \u001b[38;5;124;03m    Use NLTK's currently recommended part of speech tagger to\u001b[39;00m\n\u001b[0;32m    146\u001b[0m \u001b[38;5;124;03m    tag the given list of tokens.\u001b[39;00m\n\u001b[1;32m   (...)\u001b[0m\n\u001b[0;32m    166\u001b[0m \u001b[38;5;124;03m    :rtype: list(tuple(str, str))\u001b[39;00m\n\u001b[0;32m    167\u001b[0m \u001b[38;5;124;03m    \"\"\"\u001b[39;00m\n\u001b[1;32m--> 168\u001b[0m     tagger \u001b[38;5;241m=\u001b[39m _get_tagger(lang)\n\u001b[0;32m    169\u001b[0m     \u001b[38;5;28;01mreturn\u001b[39;00m _pos_tag(tokens, tagset, tagger, lang)\n",
      "File \u001b[1;32m~\\anaconda3\\Lib\\site-packages\\nltk\\tag\\__init__.py:110\u001b[0m, in \u001b[0;36m_get_tagger\u001b[1;34m(lang)\u001b[0m\n\u001b[0;32m    108\u001b[0m     tagger \u001b[38;5;241m=\u001b[39m PerceptronTagger(lang\u001b[38;5;241m=\u001b[39mlang)\n\u001b[0;32m    109\u001b[0m \u001b[38;5;28;01melse\u001b[39;00m:\n\u001b[1;32m--> 110\u001b[0m     tagger \u001b[38;5;241m=\u001b[39m PerceptronTagger()\n\u001b[0;32m    111\u001b[0m \u001b[38;5;28;01mreturn\u001b[39;00m tagger\n",
      "File \u001b[1;32m~\\anaconda3\\Lib\\site-packages\\nltk\\tag\\perceptron.py:183\u001b[0m, in \u001b[0;36mPerceptronTagger.__init__\u001b[1;34m(self, load, lang)\u001b[0m\n\u001b[0;32m    181\u001b[0m \u001b[38;5;28mself\u001b[39m\u001b[38;5;241m.\u001b[39mclasses \u001b[38;5;241m=\u001b[39m \u001b[38;5;28mset\u001b[39m()\n\u001b[0;32m    182\u001b[0m \u001b[38;5;28;01mif\u001b[39;00m load:\n\u001b[1;32m--> 183\u001b[0m     \u001b[38;5;28mself\u001b[39m\u001b[38;5;241m.\u001b[39mload_from_json(lang)\n",
      "File \u001b[1;32m~\\anaconda3\\Lib\\site-packages\\nltk\\tag\\perceptron.py:273\u001b[0m, in \u001b[0;36mPerceptronTagger.load_from_json\u001b[1;34m(self, lang)\u001b[0m\n\u001b[0;32m    271\u001b[0m \u001b[38;5;28;01mdef\u001b[39;00m \u001b[38;5;21mload_from_json\u001b[39m(\u001b[38;5;28mself\u001b[39m, lang\u001b[38;5;241m=\u001b[39m\u001b[38;5;124m\"\u001b[39m\u001b[38;5;124meng\u001b[39m\u001b[38;5;124m\"\u001b[39m):\n\u001b[0;32m    272\u001b[0m     \u001b[38;5;66;03m# Automatically find path to the tagger if location is not specified.\u001b[39;00m\n\u001b[1;32m--> 273\u001b[0m     loc \u001b[38;5;241m=\u001b[39m find(\u001b[38;5;124mf\u001b[39m\u001b[38;5;124m\"\u001b[39m\u001b[38;5;124mtaggers/averaged_perceptron_tagger_\u001b[39m\u001b[38;5;132;01m{\u001b[39;00mlang\u001b[38;5;132;01m}\u001b[39;00m\u001b[38;5;124m/\u001b[39m\u001b[38;5;124m\"\u001b[39m)\n\u001b[0;32m    274\u001b[0m     \u001b[38;5;28;01mwith\u001b[39;00m \u001b[38;5;28mopen\u001b[39m(loc \u001b[38;5;241m+\u001b[39m TAGGER_JSONS[lang][\u001b[38;5;124m\"\u001b[39m\u001b[38;5;124mweights\u001b[39m\u001b[38;5;124m\"\u001b[39m]) \u001b[38;5;28;01mas\u001b[39;00m fin:\n\u001b[0;32m    275\u001b[0m         \u001b[38;5;28mself\u001b[39m\u001b[38;5;241m.\u001b[39mmodel\u001b[38;5;241m.\u001b[39mweights \u001b[38;5;241m=\u001b[39m json\u001b[38;5;241m.\u001b[39mload(fin)\n",
      "File \u001b[1;32m~\\anaconda3\\Lib\\site-packages\\nltk\\data.py:579\u001b[0m, in \u001b[0;36mfind\u001b[1;34m(resource_name, paths)\u001b[0m\n\u001b[0;32m    577\u001b[0m sep \u001b[38;5;241m=\u001b[39m \u001b[38;5;124m\"\u001b[39m\u001b[38;5;124m*\u001b[39m\u001b[38;5;124m\"\u001b[39m \u001b[38;5;241m*\u001b[39m \u001b[38;5;241m70\u001b[39m\n\u001b[0;32m    578\u001b[0m resource_not_found \u001b[38;5;241m=\u001b[39m \u001b[38;5;124mf\u001b[39m\u001b[38;5;124m\"\u001b[39m\u001b[38;5;130;01m\\n\u001b[39;00m\u001b[38;5;132;01m{\u001b[39;00msep\u001b[38;5;132;01m}\u001b[39;00m\u001b[38;5;130;01m\\n\u001b[39;00m\u001b[38;5;132;01m{\u001b[39;00mmsg\u001b[38;5;132;01m}\u001b[39;00m\u001b[38;5;130;01m\\n\u001b[39;00m\u001b[38;5;132;01m{\u001b[39;00msep\u001b[38;5;132;01m}\u001b[39;00m\u001b[38;5;130;01m\\n\u001b[39;00m\u001b[38;5;124m\"\u001b[39m\n\u001b[1;32m--> 579\u001b[0m \u001b[38;5;28;01mraise\u001b[39;00m \u001b[38;5;167;01mLookupError\u001b[39;00m(resource_not_found)\n",
      "\u001b[1;31mLookupError\u001b[0m: \n**********************************************************************\n  Resource \u001b[93maveraged_perceptron_tagger_eng\u001b[0m not found.\n  Please use the NLTK Downloader to obtain the resource:\n\n  \u001b[31m>>> import nltk\n  >>> nltk.download('averaged_perceptron_tagger_eng')\n  \u001b[0m\n  For more information see: https://www.nltk.org/data.html\n\n  Attempted to load \u001b[93mtaggers/averaged_perceptron_tagger_eng/\u001b[0m\n\n  Searched in:\n    - 'C:\\\\Users\\\\Tanuu/nltk_data'\n    - 'C:\\\\Users\\\\Tanuu\\\\anaconda3\\\\nltk_data'\n    - 'C:\\\\Users\\\\Tanuu\\\\anaconda3\\\\share\\\\nltk_data'\n    - 'C:\\\\Users\\\\Tanuu\\\\anaconda3\\\\lib\\\\nltk_data'\n    - 'C:\\\\Users\\\\Tanuu\\\\AppData\\\\Roaming\\\\nltk_data'\n    - 'C:\\\\nltk_data'\n    - 'D:\\\\nltk_data'\n    - 'E:\\\\nltk_data'\n**********************************************************************\n"
     ]
    }
   ],
   "source": [
    "import nltk\n",
    "from nltk import ne_chunk,pos_tag,word_tokenize\n",
    "words=word_tokenize(\"Barack Obama was the 44th President of the United States.\")\n",
    "pos_tags=pos_tag(words)\n",
    "entities=ne_chunk(pos_tags)\n",
    "print(entities)\n",
    "print(pos_tags)"
   ]
  },
  {
   "cell_type": "code",
   "execution_count": 28,
   "id": "c22a04e6-8a1d-4ed3-956a-1e7482d06f8e",
   "metadata": {},
   "outputs": [
    {
     "name": "stdout",
     "output_type": "stream",
     "text": [
      "             S                     \n",
      "      _______|_______               \n",
      "     |               VP            \n",
      "     |        _______|___           \n",
      "     |       |           PP        \n",
      "     |       |    _______|___       \n",
      "     NP      |   |           NP    \n",
      "  ___|___    |   |        ___|___   \n",
      "Det      N   V   P      Det      N \n",
      " |       |   |   |       |       |  \n",
      "the     cat sat  on     the     mat\n",
      "\n"
     ]
    }
   ],
   "source": [
    "from nltk import CFG,ChartParser\n",
    "grammar=CFG.fromstring(\"\"\"\n",
    "S -> NP VP\n",
    "NP -> Det N\n",
    "VP -> V PP\n",
    "PP -> P NP\n",
    "Det -> 'the'\n",
    "N -> 'cat' | 'mat'\n",
    "V -> 'sat'\n",
    "P -> 'on'\n",
    "\"\"\")\n",
    "parser=ChartParser(grammar)\n",
    "sentence =\"the cat sat on the mat\".split()\n",
    "for tree in parser.parse(sentence):\n",
    "    tree.pretty_print()\n",
    "    tree.draw()"
   ]
  },
  {
   "cell_type": "code",
   "execution_count": null,
   "id": "b3cd275a-ed16-48c4-8122-7ddf4b4c1115",
   "metadata": {},
   "outputs": [],
   "source": []
  }
 ],
 "metadata": {
  "kernelspec": {
   "display_name": "Python 3 (ipykernel)",
   "language": "python",
   "name": "python3"
  },
  "language_info": {
   "codemirror_mode": {
    "name": "ipython",
    "version": 3
   },
   "file_extension": ".py",
   "mimetype": "text/x-python",
   "name": "python",
   "nbconvert_exporter": "python",
   "pygments_lexer": "ipython3",
   "version": "3.12.7"
  }
 },
 "nbformat": 4,
 "nbformat_minor": 5
}
