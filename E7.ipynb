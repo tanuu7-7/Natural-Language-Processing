{
 "cells": [
  {
   "cell_type": "code",
   "execution_count": 12,
   "id": "f5002530-8cad-4fef-9c43-5ff67d976e30",
   "metadata": {},
   "outputs": [],
   "source": [
    "import nltk\n",
    "import numpy as np\n",
    "from nltk import PCFG"
   ]
  },
  {
   "cell_type": "code",
   "execution_count": 13,
   "id": "21fc4fed-0aab-41fc-a305-4abbb78ae180",
   "metadata": {},
   "outputs": [],
   "source": [
    "pcfg=PCFG.fromstring(\"\"\"\n",
    "S -> NP VP [0.9]\n",
    "S -> VP [0.1]\n",
    "VP -> V NP [0.5]\n",
    "VP -> V [0.5]\n",
    "NP -> Det N [0.3]\n",
    "NP -> N [0.7]\n",
    "N -> 'cat' [0.2]\n",
    "N -> 'book' [0.2]\n",
    "N -> 'bird' [0.2]\n",
    "N -> 'dog' [0.4]\n",
    "V -> 'read' [0.1]\n",
    "V -> 'chased' [0.6]\n",
    "V -> 'ate' [0.3]\n",
    "Det -> 'the' [0.5]\n",
    "Det -> 'a' [0.5]\n",
    "\"\"\")"
   ]
  },
  {
   "cell_type": "code",
   "execution_count": 14,
   "id": "89af06b8-a1fd-4a0a-bb06-7a1e52c74487",
   "metadata": {},
   "outputs": [],
   "source": [
    "sentences=[\n",
    "\"the cat chased the dog\",\n",
    "\"the dog chased the cat\",\n",
    "\"the dog chased the bird\",\n",
    "\"Book read\"\n",
    "]"
   ]
  },
  {
   "cell_type": "code",
   "execution_count": 22,
   "id": "36340cf2-b713-44dc-8ff2-e15046b858ba",
   "metadata": {},
   "outputs": [],
   "source": [
    "def cyk_parse_with_probability(pcfg,sentence):\n",
    "    n=len(sentence)\n",
    "    table=[[[] for _ in range(n)] for _ in range(n)]\n",
    "    for i in range(n):\n",
    "        for prod in pcfg.productions(rhs=sentence[i]):\n",
    "            table[i][i]=[(prod.lhs(),prod.prob())]\n",
    "    for length in range(2,n+1):\n",
    "        for i in range(n-length+1):\n",
    "            j=i+length-1\n",
    "            for k in range(i,j):\n",
    "                for prod in pcfg.productions():\n",
    "                    for left,left_prob in table[i][k]:\n",
    "                        for right,right_prob in table[k+1][j]:\n",
    "                            if prod.rhs()==(left,right):\n",
    "                                prob=left_prob*right_prob*prod.prob()\n",
    "                                if table[i][j] is None:\n",
    "                                    table[i][j]=[(prod.lhs(),prob)]\n",
    "                                else:\n",
    "                                    table[i][j].append((prod.lhs(),prob))\n",
    "    if pcfg.start() in [lhs for lhs,prob in table[0][n-1]]:\n",
    "        for lhs,prob in table[0][n-1]:\n",
    "            if lhs==pcfg.start():\n",
    "                return prob\n",
    "    return 0.0"
   ]
  },
  {
   "cell_type": "code",
   "execution_count": 25,
   "id": "28652ee9-87a1-4f35-b1cd-351b6e573c09",
   "metadata": {},
   "outputs": [
    {
     "name": "stdout",
     "output_type": "stream",
     "text": [
      "The sentence \"the cat chased the dog\" is grammatically correct with a probability 0.0005\n",
      "The sentence \"the dog chased the cat\" is grammatically correct with a probability 0.0005\n",
      "The sentence \"the dog chased the bird\" is grammatically correct with a probability 0.0005\n",
      "The sentence \"Book read\" is not grammatically correct.\n"
     ]
    }
   ],
   "source": [
    "for sent in sentences:\n",
    "    probability = cyk_parse_with_probability(pcfg,sent.lower().split())\n",
    "    if probability > 0:\n",
    "        print(f'The sentence \"{sent}\" is grammatically correct with a probability {probability:.4f}')\n",
    "    else:\n",
    "        print(f\"The sentence \\\"{sent}\\\" is not grammatically correct.\")"
   ]
  },
  {
   "cell_type": "code",
   "execution_count": 27,
   "id": "81344fc6-f147-4103-af10-6a75d75f3f13",
   "metadata": {},
   "outputs": [],
   "source": [
    "grammar = PCFG.fromstring(\"\"\"\n",
    "S -> NP VP [1.0]\n",
    "PP -> P NP [1.0]\n",
    "VP -> V NP [0.7] | VP PP [0.3]\n",
    "P -> 'with' [1.0]\n",
    "V -> 'saw' [1.0]\n",
    "NP -> NP PP [0.4] |'astronomers' [0.1] | 'ears' [0.18] | 'saw' [0.04] | 'stars' [0.18] | 'telescopes' [0.1]\n",
    "\"\"\")"
   ]
  },
  {
   "cell_type": "code",
   "execution_count": 28,
   "id": "0e07ea60-68ef-48e9-899b-fc083ab8d82e",
   "metadata": {},
   "outputs": [
    {
     "name": "stdout",
     "output_type": "stream",
     "text": [
      "                  S                    \n",
      "      ____________|____                 \n",
      "     |                 VP              \n",
      "     |        _________|___             \n",
      "     |       |             NP          \n",
      "     |       |     ________|____        \n",
      "     |       |    |             PP     \n",
      "     |       |    |         ____|___    \n",
      "     NP      V    NP       P        NP \n",
      "     |       |    |        |        |   \n",
      "astronomers saw stars     with     ears\n",
      "\n"
     ]
    }
   ],
   "source": [
    "from nltk.parse.viterbi import ViterbiParser\n",
    "parser=ViterbiParser(grammar)\n",
    "sentence=\"astronomers saw stars with ears\"\n",
    "tokens=sentence.split()\n",
    "try:\n",
    "    for tree in parser.parse(tokens):\n",
    "        tree.pretty_print()\n",
    "        tree.draw()\n",
    "except ValueError:\n",
    "    print(\"No parse tree found in this sentence\")"
   ]
  }
 ],
 "metadata": {
  "kernelspec": {
   "display_name": "Python 3 (ipykernel)",
   "language": "python",
   "name": "python3"
  },
  "language_info": {
   "codemirror_mode": {
    "name": "ipython",
    "version": 3
   },
   "file_extension": ".py",
   "mimetype": "text/x-python",
   "name": "python",
   "nbconvert_exporter": "python",
   "pygments_lexer": "ipython3",
   "version": "3.12.7"
  }
 },
 "nbformat": 4,
 "nbformat_minor": 5
}
