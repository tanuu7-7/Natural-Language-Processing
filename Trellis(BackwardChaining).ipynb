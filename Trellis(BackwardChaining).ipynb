{
  "nbformat": 4,
  "nbformat_minor": 0,
  "metadata": {
    "colab": {
      "provenance": []
    },
    "kernelspec": {
      "name": "python3",
      "display_name": "Python 3"
    },
    "language_info": {
      "name": "python"
    }
  },
  "cells": [
    {
      "cell_type": "code",
      "execution_count": 11,
      "metadata": {
        "colab": {
          "base_uri": "https://localhost:8080/"
        },
        "id": "pD7obTc6XoF9",
        "outputId": "06b043ca-84f0-495b-b797-3c39bd6e812b"
      },
      "outputs": [
        {
          "output_type": "stream",
          "name": "stdout",
          "text": [
            "Using Backward Chaining: 0.0315\n",
            "[0.6, 0.045000000000000005, 0.0315] \n",
            " [0.1, 0.245, 0.029]\n"
          ]
        }
      ],
      "source": [
        "transition={\"CPtoCP\":0.7,\"CPtoIP\":0.3,\"IPtoCP\":0.5,\"IPtoIP\":0.5}\n",
        "emission={\"CP\":{\"Cola\":0.6,\"Iced_Tea\":0.1,\"Lemonade\":0.3},\"IP\":{\"Cola\":0.1,\"Iced_Tea\":0.7,\"Lemonade\":0.2}}\n",
        "pi=(1,1)\n",
        "a,b=pi\n",
        "beta1=[]\n",
        "beta2=[]\n",
        "for i in reversed([\"Lemonade\",\"Iced_Tea\",\"Cola\"]):\n",
        "  temp1=[]\n",
        "  temp2=[]\n",
        "  for j in transition.keys():\n",
        "    if j.startswith(\"CP\"):\n",
        "      if j.endswith(\"CP\"):\n",
        "        temp1.append(a*transition[j]*emission[\"CP\"][i])\n",
        "      else:\n",
        "        temp1.append(b*transition[j]*emission[\"CP\"][i])\n",
        "    else:\n",
        "      if j.endswith(\"CP\"):\n",
        "        temp2.append(a*transition[j]*emission[\"IP\"][i])\n",
        "      else:\n",
        "        temp2.append(b*transition[j]*emission[\"IP\"][i])\n",
        "\n",
        "  a=sum(temp1)\n",
        "  b=sum(temp2)\n",
        "  beta1.append(a)\n",
        "  beta2.append(b)\n",
        "  temp1.clear()\n",
        "  temp2.clear()\n",
        "  if i==\"Lemonade\":\n",
        "    print(\"Using Backward Chaining:\",a)\n",
        "print(beta1,\"\\n\",beta2)"
      ]
    }
  ]
}