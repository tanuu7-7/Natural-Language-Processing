{
 "cells": [
  {
   "cell_type": "code",
   "execution_count": 4,
   "id": "4fe3ce17-4537-4151-ae50-4cb254a1b57e",
   "metadata": {},
   "outputs": [
    {
     "name": "stdout",
     "output_type": "stream",
     "text": [
      "using viterbi algorithm: 0.0132\n",
      "Best sequence:\n",
      "CP->IP->CP->CP\n",
      "[1, 0.21, 0.0315, 0.01323]\n",
      "[0, 0.09, 0.0315, 0.00567]\n"
     ]
    }
   ],
   "source": [
    "transition={\"CPtoCP\":0.7,\"CPtoIP\":0.3,\"IPtoCP\":0.5,\"IPtoIP\":0.5}\n",
    "emission={\"CP\":{\"Cola\":0.6,\"Iced_Tea\":0.1,\"Lemonade\":0.3},\"IP\":{\"Cola\":0.1,\"Iced_Tea\":0.7,\"Lemonade\":0.2}}\n",
    "pi=(1,0)\n",
    "a,b=pi\n",
    "delta1=[a]\n",
    "delta2=[b]\n",
    "chi=[]\n",
    "for i in [\"Lemonade\",\"Iced_Tea\",\"Cola\"]:\n",
    "    temp1=[]\n",
    "    temp2=[]\n",
    "    temp3={}\n",
    "    for j in [\"CPtoCP\",\"CPtoIP\",\"IPtoIP\",\"IPtoCP\"]:\n",
    "        if j.endswith(\"CP\"):\n",
    "            if j.startswith(\"CP\"):\n",
    "                temp1.append(a*transition[j]*emission[\"CP\"][i])\n",
    "            else:\n",
    "                temp1.append(b*transition[j]*emission[\"IP\"][i])\n",
    "        else:\n",
    "            if j.startswith(\"CP\"):\n",
    "                temp2.append(a*transition[j]*emission[\"CP\"][i])\n",
    "            else:\n",
    "                temp2.append(b*transition[j]*emission[\"IP\"][i])\n",
    "    a=max(temp1)\n",
    "    b=max(temp2)\n",
    "    temp3[a]=\"CP\"\n",
    "    temp3[b]=\"IP\"\n",
    "    delta1.append(a)\n",
    "    delta2.append(b)\n",
    "    chi.append(temp3[max(temp3.keys())])\n",
    "    temp1.clear()\n",
    "    temp2.clear()\n",
    "    if i==\"Cola\":\n",
    "        print(\"using viterbi algorithm:\",round(max(a,b),4))\n",
    "        print(\"Best sequence:\")\n",
    "        for i in chi:\n",
    "            print(i,end='->')\n",
    "        print(temp3[max(temp3.keys())])\n",
    "\n",
    "print(delta1)\n",
    "print(delta2)"
   ]
  }
 ],
 "metadata": {
  "kernelspec": {
   "display_name": "Python 3 (ipykernel)",
   "language": "python",
   "name": "python3"
  },
  "language_info": {
   "codemirror_mode": {
    "name": "ipython",
    "version": 3
   },
   "file_extension": ".py",
   "mimetype": "text/x-python",
   "name": "python",
   "nbconvert_exporter": "python",
   "pygments_lexer": "ipython3",
   "version": "3.12.7"
  }
 },
 "nbformat": 4,
 "nbformat_minor": 5
}
